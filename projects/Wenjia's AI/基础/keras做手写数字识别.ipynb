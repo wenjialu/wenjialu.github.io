{
 "cells": [
  {
   "cell_type": "code",
   "execution_count": 94,
   "metadata": {},
   "outputs": [],
   "source": [
    "#用keras做手写数字识别\n",
    "import numpy as np\n",
    "from keras.layers.core import Dense,Dropout,Activation   #keras 2.3.1\n",
    "from keras.layers import Conv2D, MaxPooling2D, Flatten\n",
    "from keras.optimizers import SGD,Adam\n",
    "from keras.utils import np_utils\n",
    "from keras.datasets import mnist\n",
    "from keras.models import Sequential"
   ]
  },
  {
   "cell_type": "code",
   "execution_count": null,
   "metadata": {},
   "outputs": [],
   "source": [
    "# lr = 1e-4\n",
    "# iterrations = 2500\n",
    "# drop _out = 0.5"
   ]
  },
  {
   "cell_type": "code",
   "execution_count": 90,
   "metadata": {},
   "outputs": [
    {
     "ename": "IndentationError",
     "evalue": "unexpected indent (<ipython-input-90-f98923a4538c>, line 2)",
     "output_type": "error",
     "traceback": [
      "\u001b[0;36m  File \u001b[0;32m\"<ipython-input-90-f98923a4538c>\"\u001b[0;36m, line \u001b[0;32m2\u001b[0m\n\u001b[0;31m    (x_train,y_train),(x_test,y_test) = mnist.load_data()  #train:60000 ; test:10000  为啥默认分割就是6:1？？？\u001b[0m\n\u001b[0m    ^\u001b[0m\n\u001b[0;31mIndentationError\u001b[0m\u001b[0;31m:\u001b[0m unexpected indent\n"
     ]
    }
   ],
   "source": [
    "#def load_data():\n",
    "    (x_train,y_train),(x_test,y_test) = mnist.load_data()  #train:60000 ; test:10000  为啥默认分割就是6:1？？？\n",
    "    #一个像素代表颜色深度：数字越大，颜色越深。\n",
    "    number = 10000 \n",
    "\n",
    "    x_train = x_train[0:number] #长为number，正方形面积为28*28的立方体\n",
    "    y_train = y_train[0:number] \n",
    "    x_train=x_train.reshape(number,28*28)  #把立方体沿着长展开为 长为number，高为28*28的长方形\n",
    "    x_test =x_test.reshape(x_train.shape[0],28*28)\n",
    "\n",
    "    x_train=x_train.astype(\"float32\") \n",
    "    x_test =x_test.astype(\"float32\")\n",
    "    # np.shape(x_train)\n",
    "\n",
    "    #convert class vector to binary class matrixs\n",
    "    y_train = np_utils.to_categorical(y_train,10) #为啥长度不变，可以从1行变为10行，每行还不一样？？？\n",
    "    y_test = np_utils.to_categorical(y_test,10) #为啥长度不变，可以从1行变为10行，每行还不一样？？？\n",
    "    x_train = x_train/255\n",
    "    x_test =x_test/255\n",
    "\n",
    "    return (x_train,y_train),(x_test,y_test)\n"
   ]
  },
  {
   "cell_type": "code",
   "execution_count": 90,
   "metadata": {},
   "outputs": [
    {
     "ename": "IndentationError",
     "evalue": "unexpected indent (<ipython-input-90-f98923a4538c>, line 2)",
     "output_type": "error",
     "traceback": [
      "\u001b[0;36m  File \u001b[0;32m\"<ipython-input-90-f98923a4538c>\"\u001b[0;36m, line \u001b[0;32m2\u001b[0m\n\u001b[0;31m    (x_train,y_train),(x_test,y_test) = mnist.load_data()  #train:60000 ; test:10000  为啥默认分割就是6:1？？？\u001b[0m\n\u001b[0m    ^\u001b[0m\n\u001b[0;31mIndentationError\u001b[0m\u001b[0;31m:\u001b[0m unexpected indent\n"
     ]
    }
   ],
   "source": [
    "#def load_data():\n",
    "    (x_train,y_train),(x_test,y_test) = mnist.load_data()  #train:60000 ; test:10000  为啥默认分割就是6:1？？？\n",
    "    #一个像素代表颜色深度：数字越大，颜色越深。\n",
    "    number = 10000 \n",
    "\n",
    "    x_train = x_train[0:number] #长为number，正方形面积为28*28的立方体\n",
    "    y_train = y_train[0:number] \n",
    "    x_train=x_train.reshape(number,28*28)  #把立方体沿着长展开为 长为number，高为28*28的长方形\n",
    "    x_test =x_test.reshape(x_train.shape[0],28*28)\n",
    "\n",
    "    x_train=x_train.astype(\"float32\") \n",
    "    x_test =x_test.astype(\"float32\")\n",
    "    # np.shape(x_train)\n",
    "\n",
    "    #convert class vector to binary class matrixs\n",
    "    y_train = np_utils.to_categorical(y_train,10) #为啥长度不变，可以从1行变为10行，每行还不一样？？？\n",
    "    y_test = np_utils.to_categorical(y_test,10) #为啥长度不变，可以从1行变为10行，每行还不一样？？？\n",
    "    x_train = x_train/255\n",
    "    x_test =x_test/255\n",
    "\n",
    "    return (x_train,y_train),(x_test,y_test)\n"
   ]
  },
  {
   "cell_type": "code",
   "execution_count": 97,
   "metadata": {},
   "outputs": [
    {
     "name": "stderr",
     "output_type": "stream",
     "text": [
      "/anaconda3/lib/python3.6/site-packages/ipykernel_launcher.py:4: UserWarning: Update your `Dense` call to the Keras 2 API: `Dense(input_dim=784, activation=\"sigmoid\", units=500)`\n",
      "  after removing the cwd from sys.path.\n",
      "/anaconda3/lib/python3.6/site-packages/ipykernel_launcher.py:7: UserWarning: Update your `Dense` call to the Keras 2 API: `Dense(activation=\"sigmoid\", units=500)`\n",
      "  import sys\n",
      "/anaconda3/lib/python3.6/site-packages/ipykernel_launcher.py:9: UserWarning: Update your `Dense` call to the Keras 2 API: `Dense(activation=\"softmax\", units=10)`\n",
      "  if __name__ == '__main__':\n"
     ]
    }
   ],
   "source": [
    "#bulid a network \n",
    "model= Sequential()\n",
    "\n",
    "model.add(Dense(input_dim=28*28,output_dim=500,activation='sigmoid'))  #units:output_dim\n",
    "# model.add(Activation('sigmoid'))\n",
    "          \n",
    "model.add(Dense(output_dim=500,activation='sigmoid'))\n",
    "# model.add(Activation('sigmoid'))\n",
    "model.add(Dense(output_dim=10,activation='softmax'))\n",
    "# model.add(Activation('softmax'))\n",
    "\n",
    "          \n"
   ]
  },
  {
   "cell_type": "code",
   "execution_count": 99,
   "metadata": {},
   "outputs": [],
   "source": [
    "#计算 loss  具体见https：//keras.io/objectives/\n",
    "model.compile(loss=\"categorical_crossentropy\",\n",
    "             optimizer =\"adam\",   #sgd,adagrad,adam,adamax\n",
    "             metrics=[\"accuracy\"])"
   ]
  },
  {
   "cell_type": "code",
   "execution_count": 100,
   "metadata": {},
   "outputs": [
    {
     "name": "stderr",
     "output_type": "stream",
     "text": [
      "/anaconda3/lib/python3.6/site-packages/ipykernel_launcher.py:2: UserWarning: The `nb_epoch` argument in `fit` has been renamed `epochs`.\n",
      "  \n"
     ]
    },
    {
     "name": "stdout",
     "output_type": "stream",
     "text": [
      "Epoch 1/20\n",
      "10000/10000 [==============================] - 3s 309us/step - loss: 1.1475 - accuracy: 0.6703\n",
      "Epoch 2/20\n",
      "10000/10000 [==============================] - 3s 282us/step - loss: 0.3866 - accuracy: 0.8933\n",
      "Epoch 3/20\n",
      "10000/10000 [==============================] - 2s 244us/step - loss: 0.3000 - accuracy: 0.9156\n",
      "Epoch 4/20\n",
      "10000/10000 [==============================] - 2s 244us/step - loss: 0.2584 - accuracy: 0.9274\n",
      "Epoch 5/20\n",
      "10000/10000 [==============================] - 3s 252us/step - loss: 0.2276 - accuracy: 0.9336\n",
      "Epoch 6/20\n",
      "10000/10000 [==============================] - 3s 271us/step - loss: 0.2024 - accuracy: 0.9406\n",
      "Epoch 7/20\n",
      "10000/10000 [==============================] - 3s 278us/step - loss: 0.1833 - accuracy: 0.9458\n",
      "Epoch 8/20\n",
      "10000/10000 [==============================] - 3s 310us/step - loss: 0.1621 - accuracy: 0.9519\n",
      "Epoch 9/20\n",
      "10000/10000 [==============================] - 3s 275us/step - loss: 0.1495 - accuracy: 0.9563\n",
      "Epoch 10/20\n",
      "10000/10000 [==============================] - 2s 245us/step - loss: 0.1370 - accuracy: 0.9600\n",
      "Epoch 11/20\n",
      "10000/10000 [==============================] - 2s 248us/step - loss: 0.1185 - accuracy: 0.9641\n",
      "Epoch 12/20\n",
      "10000/10000 [==============================] - 3s 252us/step - loss: 0.1041 - accuracy: 0.9699\n",
      "Epoch 13/20\n",
      "10000/10000 [==============================] - 3s 256us/step - loss: 0.0949 - accuracy: 0.9727\n",
      "Epoch 14/20\n",
      "10000/10000 [==============================] - 2s 249us/step - loss: 0.0845 - accuracy: 0.9768\n",
      "Epoch 15/20\n",
      "10000/10000 [==============================] - 3s 266us/step - loss: 0.0754 - accuracy: 0.9797\n",
      "Epoch 16/20\n",
      "10000/10000 [==============================] - 3s 274us/step - loss: 0.0638 - accuracy: 0.9832\n",
      "Epoch 17/20\n",
      "10000/10000 [==============================] - 2s 235us/step - loss: 0.0556 - accuracy: 0.9850\n",
      "Epoch 18/20\n",
      "10000/10000 [==============================] - 2s 235us/step - loss: 0.0493 - accuracy: 0.9871\n",
      "Epoch 19/20\n",
      "10000/10000 [==============================] - 2s 244us/step - loss: 0.0422 - accuracy: 0.9908\n",
      "Epoch 20/20\n",
      "10000/10000 [==============================] - 2s 238us/step - loss: 0.0404 - accuracy: 0.9900\n"
     ]
    },
    {
     "data": {
      "text/plain": [
       "<keras.callbacks.callbacks.History at 0x137b47208>"
      ]
     },
     "execution_count": 100,
     "metadata": {},
     "output_type": "execute_result"
    }
   ],
   "source": [
    "# training\n",
    "model.fit(x_train,y_train,batch_size =100,nb_epoch=20)\n",
    "\n",
    "#x_train  两维：一个维度是图片数量，一个维度是每张图片有28*28=784个像素点。\n",
    "#y_train  两维：一个维度是图片数量，一个维度是分类成10个数字。\n",
    "\n"
   ]
  },
  {
   "cell_type": "code",
   "execution_count": 104,
   "metadata": {},
   "outputs": [
    {
     "name": "stdout",
     "output_type": "stream",
     "text": [
      "10000/10000 [==============================] - 2s 174us/step\n",
      "totol loss on testing set 0.19452634181510656\n",
      "Accuaracy of testing set 0.9455000162124634\n",
      "[[1.1583695e-06 5.7154519e-08 3.1802927e-05 ... 9.9948514e-01\n",
      "  5.3532619e-07 1.2385636e-05]\n",
      " [3.4554789e-05 3.0065974e-04 9.9825352e-01 ... 6.0463940e-08\n",
      "  6.6733708e-05 2.8498786e-08]\n",
      " [9.4013110e-08 9.9697280e-01 1.2424897e-03 ... 3.5577969e-04\n",
      "  1.0089494e-03 9.8605360e-06]\n",
      " ...\n",
      " [7.1883512e-09 2.4185335e-06 5.3899122e-08 ... 2.6815760e-05\n",
      "  2.8774314e-04 6.4448419e-04]\n",
      " [1.3934215e-07 1.4569463e-07 8.4651001e-11 ... 9.8680442e-09\n",
      "  4.9313956e-05 7.1259700e-09]\n",
      " [2.1425142e-06 6.3865060e-09 2.0655373e-06 ... 6.2465733e-10\n",
      "  6.9794702e-08 7.5336883e-09]]\n"
     ]
    },
    {
     "data": {
      "text/plain": [
       "(10000, 10)"
      ]
     },
     "execution_count": 104,
     "metadata": {},
     "output_type": "execute_result"
    }
   ],
   "source": [
    "#评估\n",
    "score= model.evaluate(x_test,y_test)\n",
    "print(\"totol loss on testing set\",score[0])\n",
    "print(\"Accuaracy of testing set\",score[1])\n",
    "\n",
    "#预测\n",
    "result = model.predict(x_test)\n",
    "print(result)\n",
    "np.shape(result)"
   ]
  },
  {
   "cell_type": "code",
   "execution_count": null,
   "metadata": {},
   "outputs": [],
   "source": []
  },
  {
   "cell_type": "code",
   "execution_count": null,
   "metadata": {},
   "outputs": [],
   "source": [
    "#save and load models\n"
   ]
  }
 ],
 "metadata": {
  "kernelspec": {
   "display_name": "Python 3",
   "language": "python",
   "name": "python3"
  },
  "language_info": {
   "codemirror_mode": {
    "name": "ipython",
    "version": 3
   },
   "file_extension": ".py",
   "mimetype": "text/x-python",
   "name": "python",
   "nbconvert_exporter": "python",
   "pygments_lexer": "ipython3",
   "version": "3.6.4"
  },
  "toc": {
   "base_numbering": 1,
   "nav_menu": {},
   "number_sections": true,
   "sideBar": true,
   "skip_h1_title": false,
   "title_cell": "Table of Contents",
   "title_sidebar": "Contents",
   "toc_cell": false,
   "toc_position": {},
   "toc_section_display": true,
   "toc_window_display": false
  }
 },
 "nbformat": 4,
 "nbformat_minor": 4
}
