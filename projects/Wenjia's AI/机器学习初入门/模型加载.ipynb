{
 "cells": [
  {
   "cell_type": "code",
   "execution_count": 5,
   "metadata": {},
   "outputs": [],
   "source": [
    "import pandas as pd\n",
    "from sklearn.model_selection import train_test_split, GridSearchCV\n",
    "from sklearn.preprocessing import StandardScaler\n",
    "from sklearn.neighbors import KNeighborsClassifier\n",
    "from sklearn.externals import joblib"
   ]
  },
  {
   "cell_type": "code",
   "execution_count": 7,
   "metadata": {},
   "outputs": [],
   "source": [
    "facebook = pd.read_csv(\"/Users/lujiawen/Desktop/数据分析课-note/数据集/FBlocation-fb/train.csv\")"
   ]
  },
  {
   "cell_type": "code",
   "execution_count": 12,
   "metadata": {},
   "outputs": [
    {
     "name": "stderr",
     "output_type": "stream",
     "text": [
      "/anaconda3/lib/python3.6/site-packages/ipykernel_launcher.py:6: SettingWithCopyWarning: \n",
      "A value is trying to be set on a copy of a slice from a DataFrame.\n",
      "Try using .loc[row_indexer,col_indexer] = value instead\n",
      "\n",
      "See the caveats in the documentation: http://pandas.pydata.org/pandas-docs/stable/indexing.html#indexing-view-versus-copy\n",
      "  \n",
      "/anaconda3/lib/python3.6/site-packages/ipykernel_launcher.py:7: SettingWithCopyWarning: \n",
      "A value is trying to be set on a copy of a slice from a DataFrame.\n",
      "Try using .loc[row_indexer,col_indexer] = value instead\n",
      "\n",
      "See the caveats in the documentation: http://pandas.pydata.org/pandas-docs/stable/indexing.html#indexing-view-versus-copy\n",
      "  import sys\n",
      "/anaconda3/lib/python3.6/site-packages/ipykernel_launcher.py:8: SettingWithCopyWarning: \n",
      "A value is trying to be set on a copy of a slice from a DataFrame.\n",
      "Try using .loc[row_indexer,col_indexer] = value instead\n",
      "\n",
      "See the caveats in the documentation: http://pandas.pydata.org/pandas-docs/stable/indexing.html#indexing-view-versus-copy\n",
      "  \n"
     ]
    }
   ],
   "source": [
    "#地点\n",
    "facebook_data = facebook.query(\"x>2.0 & x<2.5 & y>2.0 & y<2.5\")\n",
    "#时间\n",
    "time = pd.to_datetime(facebook_data[\"time\"], unit=\"s\")\n",
    "time = pd.DatetimeIndex(time)  #DatetimeIndex 看看是啥 ，是不是把时间格式转换一下？？\n",
    "facebook_data[\"day\"] = time.day\n",
    "facebook_data[\"hour\"] = time.hour\n",
    "facebook_data[\"weekday\"] = time.weekday\n",
    "# 2.3 去掉签到较少的地方\n",
    "place_count = facebook_data.groupby(\"place_id\").count()\n",
    "place_count = place_count[place_count[\"row_id\"]>3]\n",
    "\n",
    "\n",
    "#建议赋值给一个新变量。why？？数据覆盖？？ 万一错了还有机会回头\n",
    "facebook_data_new = facebook_data[facebook_data[\"place_id\"].isin(place_count.index)] ##?????"
   ]
  },
  {
   "cell_type": "code",
   "execution_count": 13,
   "metadata": {},
   "outputs": [],
   "source": [
    "# 2.4 确定特征值和目标值\n",
    "x = facebook_data_new[[\"x\", \"y\", \"accuracy\", \"day\", \"hour\", \"weekday\"]] #特征\n",
    "y = facebook_data_new[\"place_id\"] #目标\n",
    "# 2.5 分割数据集\n",
    "x_train, x_test, y_train, y_test = train_test_split(x, y, random_state=22)\n",
    "# 3.1 实例化一个转换器\n",
    "transfer = StandardScaler()\n",
    "# 3.2 调用fit_transform\n",
    "x_train = transfer.fit_transform(x_train)\n",
    "x_test = transfer.transform(x_test)"
   ]
  },
  {
   "cell_type": "markdown",
   "metadata": {},
   "source": [
    "### 省去了训练的步骤，直接加载之前保存好的模型"
   ]
  },
  {
   "cell_type": "code",
   "execution_count": 14,
   "metadata": {},
   "outputs": [
    {
     "data": {
      "text/plain": [
       "GridSearchCV(cv=5, error_score='raise',\n",
       "       estimator=KNeighborsClassifier(algorithm='auto', leaf_size=30, metric='minkowski',\n",
       "           metric_params=None, n_jobs=1, n_neighbors=5, p=2,\n",
       "           weights='uniform'),\n",
       "       fit_params=None, iid=True, n_jobs=1,\n",
       "       param_grid={'n_neighbors': [1, 3, 5, 7, 9]},\n",
       "       pre_dispatch='2*n_jobs', refit=True, return_train_score='warn',\n",
       "       scoring=None, verbose=0)"
      ]
     },
     "execution_count": 14,
     "metadata": {},
     "output_type": "execute_result"
    }
   ],
   "source": [
    "estimator = joblib.load('/Users/lujiawen/Desktop/fb_estimator.pkl')\n",
    "estimator"
   ]
  },
  {
   "cell_type": "markdown",
   "metadata": {},
   "source": [
    "### 模型预测&评估"
   ]
  },
  {
   "cell_type": "code",
   "execution_count": 17,
   "metadata": {},
   "outputs": [
    {
     "name": "stdout",
     "output_type": "stream",
     "text": [
      "最后的预测值为:\n",
      " [9983648790 6329243787 9674001925 ... 2990018952 4830766946 7065571836]\n",
      "————————————评估————————————\n",
      "最后预测的准确率为:\n",
      " 0.36515361515361516\n",
      "0.36515361515361516\n",
      "在交叉验证中验证的最好结果:\n",
      " 0.35462385462385465\n",
      "最好的参数模型:\n",
      " KNeighborsClassifier(algorithm='auto', leaf_size=30, metric='minkowski',\n",
      "           metric_params=None, n_jobs=1, n_neighbors=1, p=2,\n",
      "           weights='uniform')\n",
      "每次交叉验证后的验证集准确率结果和训练集准确率结果:\n",
      " {'mean_fit_time': array([0.06876025, 0.06801252, 0.06029029, 0.06253452, 0.05889335]), 'std_fit_time': array([0.01174866, 0.01463424, 0.00290684, 0.00371409, 0.0019377 ]), 'mean_score_time': array([0.23749218, 0.48940473, 0.51673989, 0.6071816 , 0.6778975 ]), 'std_score_time': array([0.04202111, 0.09729483, 0.01998819, 0.04778613, 0.03480236]), 'param_n_neighbors': masked_array(data=[1, 3, 5, 7, 9],\n",
      "             mask=[False, False, False, False, False],\n",
      "       fill_value='?',\n",
      "            dtype=object), 'params': [{'n_neighbors': 1}, {'n_neighbors': 3}, {'n_neighbors': 5}, {'n_neighbors': 7}, {'n_neighbors': 9}], 'split0_test_score': array([0.35231714, 0.33686953, 0.34505863, 0.34403499, 0.34105714]), 'split1_test_score': array([0.34984432, 0.34022078, 0.34871214, 0.34852345, 0.34399472]), 'split2_test_score': array([0.35395849, 0.34117986, 0.35030746, 0.34973098, 0.3477133 ]), 'split3_test_score': array([0.35492406, 0.34718275, 0.36188143, 0.35903969, 0.35394415]), 'split4_test_score': array([0.36256256, 0.35115115, 0.36256256, 0.35895896, 0.35285285]), 'mean_test_score': array([0.35462385, 0.34318934, 0.3535266 , 0.3519096 , 0.3477901 ]), 'std_test_score': array([0.0042412 , 0.00511784, 0.00714514, 0.00597169, 0.00496858]), 'rank_test_score': array([1, 5, 2, 3, 4], dtype=int32), 'split0_train_score': array([1.        , 0.6078103 , 0.54235231, 0.50155332, 0.47490413]), 'split1_train_score': array([1.        , 0.60516578, 0.54069022, 0.50025394, 0.47224842]), 'split2_train_score': array([1.        , 0.60563312, 0.54058739, 0.50329803, 0.47397689]), 'split3_train_score': array([1.        , 0.60553865, 0.53949165, 0.49871835, 0.47078552]), 'split4_train_score': array([1.        , 0.6048906 , 0.53763287, 0.5003575 , 0.47247247]), 'mean_train_score': array([1.        , 0.60580769, 0.54015089, 0.50083623, 0.47287749]), 'std_train_score': array([0.        , 0.00103599, 0.00155581, 0.00152501, 0.00143193])}\n"
     ]
    }
   ],
   "source": [
    "y_predict = estimator.predict(x_test)\n",
    "print(\"最后的预测值为:\\n\", y_predict)\n",
    "print('————————————评估————————————')\n",
    "# 5.1 基本评估方式\n",
    "score = estimator.score(x_test, y_test)\n",
    "print(\"最后预测的准确率为:\\n\", score)\n",
    "# print(\"预测值和真实值的对比情况:\\n\", y_predict == y_test)\n",
    "print(sum( y_predict == y_test)/len(y_predict))\n",
    "# 5.2 使用交叉验证后的评估方式\n",
    "print(\"在交叉验证中验证的最好结果:\\n\", estimator.best_score_)\n",
    "print(\"最好的参数模型:\\n\", estimator.best_estimator_)\n",
    "print(\"每次交叉验证后的验证集准确率结果和训练集准确率结果:\\n\",estimator.cv_results_)"
   ]
  },
  {
   "cell_type": "code",
   "execution_count": null,
   "metadata": {},
   "outputs": [],
   "source": []
  }
 ],
 "metadata": {
  "kernelspec": {
   "display_name": "Python 3",
   "language": "python",
   "name": "python3"
  },
  "language_info": {
   "codemirror_mode": {
    "name": "ipython",
    "version": 3
   },
   "file_extension": ".py",
   "mimetype": "text/x-python",
   "name": "python",
   "nbconvert_exporter": "python",
   "pygments_lexer": "ipython3",
   "version": "3.6.4"
  },
  "toc": {
   "base_numbering": 1,
   "nav_menu": {},
   "number_sections": true,
   "sideBar": true,
   "skip_h1_title": false,
   "title_cell": "Table of Contents",
   "title_sidebar": "Contents",
   "toc_cell": false,
   "toc_position": {},
   "toc_section_display": true,
   "toc_window_display": false
  }
 },
 "nbformat": 4,
 "nbformat_minor": 2
}
