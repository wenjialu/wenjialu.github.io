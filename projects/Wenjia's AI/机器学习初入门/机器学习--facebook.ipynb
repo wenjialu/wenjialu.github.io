{
 "cells": [
  {
   "cell_type": "markdown",
   "metadata": {},
   "source": [
    " # facebook"
   ]
  },
  {
   "cell_type": "code",
   "execution_count": 3,
   "metadata": {},
   "outputs": [
    {
     "ename": "SyntaxError",
     "evalue": "invalid syntax (<ipython-input-3-9903abfe47e0>, line 2)",
     "output_type": "error",
     "traceback": [
      "\u001b[0;36m  File \u001b[0;32m\"<ipython-input-3-9903abfe47e0>\"\u001b[0;36m, line \u001b[0;32m2\u001b[0m\n\u001b[0;31m    %%time\u001b[0m\n\u001b[0m    ^\u001b[0m\n\u001b[0;31mSyntaxError\u001b[0m\u001b[0;31m:\u001b[0m invalid syntax\n"
     ]
    }
   ],
   "source": [
    "#jupyter中测试运行时间  %%time\n",
    "%%time\n",
    "# [i for i in range(1000)]"
   ]
  },
  {
   "cell_type": "code",
   "execution_count": 42,
   "metadata": {},
   "outputs": [],
   "source": [
    "import pandas as pd\n",
    "from sklearn.model_selection import train_test_split, GridSearchCV\n",
    "from sklearn.preprocessing import StandardScaler\n",
    "from sklearn.neighbors import KNeighborsClassifier\n",
    "from sklearn.externals import joblib"
   ]
  },
  {
   "cell_type": "markdown",
   "metadata": {},
   "source": [
    "## 加载数据"
   ]
  },
  {
   "cell_type": "code",
   "execution_count": 7,
   "metadata": {},
   "outputs": [
    {
     "data": {
      "text/html": [
       "<div>\n",
       "<style scoped>\n",
       "    .dataframe tbody tr th:only-of-type {\n",
       "        vertical-align: middle;\n",
       "    }\n",
       "\n",
       "    .dataframe tbody tr th {\n",
       "        vertical-align: top;\n",
       "    }\n",
       "\n",
       "    .dataframe thead th {\n",
       "        text-align: right;\n",
       "    }\n",
       "</style>\n",
       "<table border=\"1\" class=\"dataframe\">\n",
       "  <thead>\n",
       "    <tr style=\"text-align: right;\">\n",
       "      <th></th>\n",
       "      <th>row_id</th>\n",
       "      <th>x</th>\n",
       "      <th>y</th>\n",
       "      <th>accuracy</th>\n",
       "      <th>time</th>\n",
       "      <th>place_id</th>\n",
       "    </tr>\n",
       "  </thead>\n",
       "  <tbody>\n",
       "    <tr>\n",
       "      <th>0</th>\n",
       "      <td>0</td>\n",
       "      <td>0.7941</td>\n",
       "      <td>9.0809</td>\n",
       "      <td>54</td>\n",
       "      <td>470702</td>\n",
       "      <td>8523065625</td>\n",
       "    </tr>\n",
       "    <tr>\n",
       "      <th>1</th>\n",
       "      <td>1</td>\n",
       "      <td>5.9567</td>\n",
       "      <td>4.7968</td>\n",
       "      <td>13</td>\n",
       "      <td>186555</td>\n",
       "      <td>1757726713</td>\n",
       "    </tr>\n",
       "    <tr>\n",
       "      <th>2</th>\n",
       "      <td>2</td>\n",
       "      <td>8.3078</td>\n",
       "      <td>7.0407</td>\n",
       "      <td>74</td>\n",
       "      <td>322648</td>\n",
       "      <td>1137537235</td>\n",
       "    </tr>\n",
       "    <tr>\n",
       "      <th>3</th>\n",
       "      <td>3</td>\n",
       "      <td>7.3665</td>\n",
       "      <td>2.5165</td>\n",
       "      <td>65</td>\n",
       "      <td>704587</td>\n",
       "      <td>6567393236</td>\n",
       "    </tr>\n",
       "    <tr>\n",
       "      <th>4</th>\n",
       "      <td>4</td>\n",
       "      <td>4.0961</td>\n",
       "      <td>1.1307</td>\n",
       "      <td>31</td>\n",
       "      <td>472130</td>\n",
       "      <td>7440663949</td>\n",
       "    </tr>\n",
       "  </tbody>\n",
       "</table>\n",
       "</div>"
      ],
      "text/plain": [
       "   row_id       x       y  accuracy    time    place_id\n",
       "0       0  0.7941  9.0809        54  470702  8523065625\n",
       "1       1  5.9567  4.7968        13  186555  1757726713\n",
       "2       2  8.3078  7.0407        74  322648  1137537235\n",
       "3       3  7.3665  2.5165        65  704587  6567393236\n",
       "4       4  4.0961  1.1307        31  472130  7440663949"
      ]
     },
     "execution_count": 7,
     "metadata": {},
     "output_type": "execute_result"
    }
   ],
   "source": [
    "facebook = pd.read_csv(\"/Users/lujiawen/Desktop/数据分析课-note/数据集/FBlocation/train.csv\")\n",
    "# /Volumes/TOSHIBA\\ EXT/机器学习算法--hm/上头佼姐-课/7月28和7月29两天的资料/7.29课程/01-上课资料/FBlocation\n",
    "facebook.shape #(29118021, 6)\n",
    "facebook.head()"
   ]
  },
  {
   "cell_type": "markdown",
   "metadata": {},
   "source": [
    "## 数据预处理"
   ]
  },
  {
   "cell_type": "code",
   "execution_count": 6,
   "metadata": {},
   "outputs": [
    {
     "name": "stderr",
     "output_type": "stream",
     "text": [
      "/anaconda3/lib/python3.6/site-packages/numexpr/cpuinfo.py:76: UserWarning: [Errno 2] No such file or directory: 'sysctl': 'sysctl'\n",
      "  stacklevel=stacklevel + 1):\n"
     ]
    },
    {
     "data": {
      "text/plain": [
       "(71664, 6)"
      ]
     },
     "execution_count": 6,
     "metadata": {},
     "output_type": "execute_result"
    }
   ],
   "source": [
    "# 2.1 缩小数据范围 #这个只有我们上课才这样做。\n",
    "facebook_data = facebook.query(\"x>2.0 & x<2.5 & y>2.0 & y<2.5\")\n",
    "facebook_data.shape  #(71664, 6)"
   ]
  },
  {
   "cell_type": "markdown",
   "metadata": {},
   "source": [
    "#### 2 选取有用的时间特征"
   ]
  },
  {
   "cell_type": "code",
   "execution_count": 2,
   "metadata": {},
   "outputs": [
    {
     "ename": "NameError",
     "evalue": "name 'pd' is not defined",
     "output_type": "error",
     "traceback": [
      "\u001b[0;31m---------------------------------------------------------------------------\u001b[0m",
      "\u001b[0;31mNameError\u001b[0m                                 Traceback (most recent call last)",
      "\u001b[0;32m<ipython-input-2-b6df18a21f69>\u001b[0m in \u001b[0;36m<module>\u001b[0;34m()\u001b[0m\n\u001b[1;32m      1\u001b[0m \u001b[0;31m# 2.2 选择时间特征\u001b[0m\u001b[0;34m\u001b[0m\u001b[0;34m\u001b[0m\u001b[0m\n\u001b[0;32m----> 2\u001b[0;31m \u001b[0mtime\u001b[0m \u001b[0;34m=\u001b[0m \u001b[0mpd\u001b[0m\u001b[0;34m.\u001b[0m\u001b[0mto_datetime\u001b[0m\u001b[0;34m(\u001b[0m\u001b[0mfacebook_data\u001b[0m\u001b[0;34m[\u001b[0m\u001b[0;34m\"time\"\u001b[0m\u001b[0;34m]\u001b[0m\u001b[0;34m,\u001b[0m \u001b[0munit\u001b[0m\u001b[0;34m=\u001b[0m\u001b[0;34m\"s\"\u001b[0m\u001b[0;34m)\u001b[0m\u001b[0;34m\u001b[0m\u001b[0m\n\u001b[0m\u001b[1;32m      3\u001b[0m \u001b[0mtime\u001b[0m \u001b[0;34m=\u001b[0m \u001b[0mpd\u001b[0m\u001b[0;34m.\u001b[0m\u001b[0mDatetimeIndex\u001b[0m\u001b[0;34m(\u001b[0m\u001b[0mtime\u001b[0m\u001b[0;34m)\u001b[0m  \u001b[0;31m#DatetimeIndex 看看是啥 ，是不是把时间格式转换一下？？\u001b[0m\u001b[0;34m\u001b[0m\u001b[0m\n\u001b[1;32m      4\u001b[0m \u001b[0mtime\u001b[0m\u001b[0;34m\u001b[0m\u001b[0m\n\u001b[1;32m      5\u001b[0m \u001b[0mfacebook_data\u001b[0m\u001b[0;34m[\u001b[0m\u001b[0;34m\"day\"\u001b[0m\u001b[0;34m]\u001b[0m \u001b[0;34m=\u001b[0m \u001b[0mtime\u001b[0m\u001b[0;34m.\u001b[0m\u001b[0mday\u001b[0m\u001b[0;34m\u001b[0m\u001b[0m\n",
      "\u001b[0;31mNameError\u001b[0m: name 'pd' is not defined"
     ]
    }
   ],
   "source": [
    "# 2.2 选择时间特征\n",
    "time = pd.to_datetime(facebook_data[\"time\"], unit=\"s\")\n",
    "time = pd.DatetimeIndex(time)  #DatetimeIndex 看看是啥 ，是不是把时间格式转换一下？？\n",
    "time\n",
    "facebook_data[\"day\"] = time.day\n",
    "facebook_data[\"hour\"] = time.hour\n",
    "facebook_data[\"weekday\"] = time.weekday\n",
    "facebook_data.head()"
   ]
  },
  {
   "cell_type": "markdown",
   "metadata": {},
   "source": [
    "#### 3 将少于n个用户的位置删除"
   ]
  },
  {
   "cell_type": "code",
   "execution_count": 1,
   "metadata": {},
   "outputs": [
    {
     "ename": "NameError",
     "evalue": "name 'facebook_data' is not defined",
     "output_type": "error",
     "traceback": [
      "\u001b[0;31m---------------------------------------------------------------------------\u001b[0m",
      "\u001b[0;31mNameError\u001b[0m                                 Traceback (most recent call last)",
      "\u001b[0;32m<ipython-input-1-dbb8be0609f9>\u001b[0m in \u001b[0;36m<module>\u001b[0;34m()\u001b[0m\n\u001b[1;32m      1\u001b[0m \u001b[0;31m# 2.3 去掉签到较少的地方\u001b[0m\u001b[0;34m\u001b[0m\u001b[0;34m\u001b[0m\u001b[0m\n\u001b[0;32m----> 2\u001b[0;31m \u001b[0mplace_count\u001b[0m \u001b[0;34m=\u001b[0m \u001b[0mfacebook_data\u001b[0m\u001b[0;34m.\u001b[0m\u001b[0mgroupby\u001b[0m\u001b[0;34m(\u001b[0m\u001b[0;34m\"place_id\"\u001b[0m\u001b[0;34m)\u001b[0m\u001b[0;34m.\u001b[0m\u001b[0mcount\u001b[0m\u001b[0;34m(\u001b[0m\u001b[0;34m)\u001b[0m\u001b[0;34m\u001b[0m\u001b[0m\n\u001b[0m\u001b[1;32m      3\u001b[0m \u001b[0mplace_count\u001b[0m \u001b[0;34m=\u001b[0m \u001b[0mplace_count\u001b[0m\u001b[0;34m[\u001b[0m\u001b[0mplace_count\u001b[0m\u001b[0;34m[\u001b[0m\u001b[0;34m\"row_id\"\u001b[0m\u001b[0;34m]\u001b[0m\u001b[0;34m>\u001b[0m\u001b[0;36m3\u001b[0m\u001b[0;34m]\u001b[0m\u001b[0;34m\u001b[0m\u001b[0m\n\u001b[1;32m      4\u001b[0m \u001b[0;31m#打印place_count 看看\u001b[0m\u001b[0;34m\u001b[0m\u001b[0;34m\u001b[0m\u001b[0m\n\u001b[1;32m      5\u001b[0m \u001b[0mplace_count\u001b[0m\u001b[0;34m.\u001b[0m\u001b[0mshape\u001b[0m \u001b[0;31m#(929, 8)\u001b[0m\u001b[0;34m\u001b[0m\u001b[0m\n",
      "\u001b[0;31mNameError\u001b[0m: name 'facebook_data' is not defined"
     ]
    }
   ],
   "source": [
    "# 2.3 去掉签到较少的地方\n",
    "place_count = facebook_data.groupby(\"place_id\").count()\n",
    "place_count = place_count[place_count[\"row_id\"]>3]\n",
    "#打印place_count 看看\n",
    "place_count\n",
    "# place_count.shape #(929, 8)\n",
    "\n",
    "# #建议赋值给一个新变量。why？？数据覆盖？？ 万一错了还有机会回头\n",
    "# facebook_data_new = facebook_data[facebook_data[\"place_id\"].isin(place_count.index)] ##?????\n",
    "# facebook_data_new.shape #(69264, 9)\n",
    "# facebook_data_new.head()"
   ]
  },
  {
   "cell_type": "markdown",
   "metadata": {},
   "source": [
    "## 特征-分割数据"
   ]
  },
  {
   "cell_type": "code",
   "execution_count": 52,
   "metadata": {},
   "outputs": [
    {
     "data": {
      "text/plain": [
       "(17316, 6)"
      ]
     },
     "execution_count": 52,
     "metadata": {},
     "output_type": "execute_result"
    }
   ],
   "source": [
    "# 2.4 确定特征值和目标值\n",
    "x = facebook_data_new[[\"x\", \"y\", \"accuracy\", \"day\", \"hour\", \"weekday\"]] #特征\n",
    "y = facebook_data_new[\"place_id\"] #目标\n",
    "# 2.5 分割数据集\n",
    "x_train, x_test, y_train, y_test = train_test_split(x, y, random_state=22)\n",
    "x_train.shape  \n",
    "x_test.shape  ##(51948, 6)  (17316, 6)"
   ]
  },
  {
   "cell_type": "markdown",
   "metadata": {},
   "source": [
    "## 特征工程-标准化"
   ]
  },
  {
   "cell_type": "code",
   "execution_count": 30,
   "metadata": {},
   "outputs": [],
   "source": [
    "# 3.1 实例化一个转换器\n",
    "transfer = StandardScaler()\n",
    "# 3.2 调用fit_transform\n",
    "x_train = transfer.fit_transform(x_train)\n",
    "x_test = transfer.transform(x_test)"
   ]
  },
  {
   "cell_type": "markdown",
   "metadata": {},
   "source": [
    "## 训练"
   ]
  },
  {
   "cell_type": "code",
   "execution_count": 31,
   "metadata": {},
   "outputs": [
    {
     "name": "stderr",
     "output_type": "stream",
     "text": [
      "/anaconda3/lib/python3.6/site-packages/sklearn/model_selection/_split.py:605: Warning: The least populated class in y has only 1 members, which is too few. The minimum number of members in any class cannot be less than n_splits=5.\n",
      "  % (min_groups, self.n_splits)), Warning)\n"
     ]
    },
    {
     "name": "stdout",
     "output_type": "stream",
     "text": [
      "CPU times: user 1min 2s, sys: 826 ms, total: 1min 3s\n",
      "Wall time: 1min 4s\n"
     ]
    }
   ],
   "source": [
    "%%time\n",
    "# 4.1 实例化一个估计器\n",
    "estimator = KNeighborsClassifier()\n",
    "# 4.2 调用gridsearchCV\n",
    "param_grid = {\"n_neighbors\": [1, 3, 5, 7, 9]}\n",
    "estimator = GridSearchCV(estimator, param_grid=param_grid, cv=5)\n",
    "# 4.3 模型训练\n",
    "estimator.fit(x_train, y_train) #x:特征 y:目标"
   ]
  },
  {
   "cell_type": "markdown",
   "metadata": {},
   "source": [
    "## 预测"
   ]
  },
  {
   "cell_type": "code",
   "execution_count": 32,
   "metadata": {},
   "outputs": [
    {
     "name": "stdout",
     "output_type": "stream",
     "text": [
      "最后的预测值为:\n",
      " [9983648790 6329243787 9674001925 ... 2990018952 4830766946 7065571836]\n"
     ]
    }
   ],
   "source": [
    "y_predict = estimator.predict(x_test)\n",
    "print(\"最后的预测值为:\\n\", y_predict)"
   ]
  },
  {
   "cell_type": "markdown",
   "metadata": {},
   "source": [
    "## 评估"
   ]
  },
  {
   "cell_type": "code",
   "execution_count": 36,
   "metadata": {},
   "outputs": [
    {
     "name": "stdout",
     "output_type": "stream",
     "text": [
      "最后预测的准确率为:\n",
      " 0.36515361515361516\n",
      "0.36515361515361516\n"
     ]
    }
   ],
   "source": [
    "# 5.1 基本评估方式\n",
    "score = estimator.score(x_test, y_test)\n",
    "print(\"最后预测的准确率为:\\n\", score)\n",
    "# print(\"预测值和真实值的对比情况:\\n\", y_predict == y_test)\n",
    "print(sum( y_predict == y_test)/len(y_predict))"
   ]
  },
  {
   "cell_type": "code",
   "execution_count": 37,
   "metadata": {},
   "outputs": [
    {
     "name": "stdout",
     "output_type": "stream",
     "text": [
      "在交叉验证中验证的最好结果:\n",
      " 0.35462385462385465\n",
      "最好的参数模型:\n",
      " KNeighborsClassifier(algorithm='auto', leaf_size=30, metric='minkowski',\n",
      "           metric_params=None, n_jobs=1, n_neighbors=1, p=2,\n",
      "           weights='uniform')\n",
      "每次交叉验证后的验证集准确率结果和训练集准确率结果:\n",
      " {'mean_fit_time': array([0.06876025, 0.06801252, 0.06029029, 0.06253452, 0.05889335]), 'std_fit_time': array([0.01174866, 0.01463424, 0.00290684, 0.00371409, 0.0019377 ]), 'mean_score_time': array([0.23749218, 0.48940473, 0.51673989, 0.6071816 , 0.6778975 ]), 'std_score_time': array([0.04202111, 0.09729483, 0.01998819, 0.04778613, 0.03480236]), 'param_n_neighbors': masked_array(data=[1, 3, 5, 7, 9],\n",
      "             mask=[False, False, False, False, False],\n",
      "       fill_value='?',\n",
      "            dtype=object), 'params': [{'n_neighbors': 1}, {'n_neighbors': 3}, {'n_neighbors': 5}, {'n_neighbors': 7}, {'n_neighbors': 9}], 'split0_test_score': array([0.35231714, 0.33686953, 0.34505863, 0.34403499, 0.34105714]), 'split1_test_score': array([0.34984432, 0.34022078, 0.34871214, 0.34852345, 0.34399472]), 'split2_test_score': array([0.35395849, 0.34117986, 0.35030746, 0.34973098, 0.3477133 ]), 'split3_test_score': array([0.35492406, 0.34718275, 0.36188143, 0.35903969, 0.35394415]), 'split4_test_score': array([0.36256256, 0.35115115, 0.36256256, 0.35895896, 0.35285285]), 'mean_test_score': array([0.35462385, 0.34318934, 0.3535266 , 0.3519096 , 0.3477901 ]), 'std_test_score': array([0.0042412 , 0.00511784, 0.00714514, 0.00597169, 0.00496858]), 'rank_test_score': array([1, 5, 2, 3, 4], dtype=int32), 'split0_train_score': array([1.        , 0.6078103 , 0.54235231, 0.50155332, 0.47490413]), 'split1_train_score': array([1.        , 0.60516578, 0.54069022, 0.50025394, 0.47224842]), 'split2_train_score': array([1.        , 0.60563312, 0.54058739, 0.50329803, 0.47397689]), 'split3_train_score': array([1.        , 0.60553865, 0.53949165, 0.49871835, 0.47078552]), 'split4_train_score': array([1.        , 0.6048906 , 0.53763287, 0.5003575 , 0.47247247]), 'mean_train_score': array([1.        , 0.60580769, 0.54015089, 0.50083623, 0.47287749]), 'std_train_score': array([0.        , 0.00103599, 0.00155581, 0.00152501, 0.00143193])}\n"
     ]
    }
   ],
   "source": [
    "# 5.2 使用交叉验证后的评估方式\n",
    "print(\"在交叉验证中验证的最好结果:\\n\", estimator.best_score_)\n",
    "print(\"最好的参数模型:\\n\", estimator.best_estimator_)\n",
    "print(\"每次交叉验证后的验证集准确率结果和训练集准确率结果:\\n\",estimator.cv_results_)"
   ]
  },
  {
   "cell_type": "markdown",
   "metadata": {},
   "source": [
    "### 模型保存"
   ]
  },
  {
   "cell_type": "code",
   "execution_count": 47,
   "metadata": {},
   "outputs": [
    {
     "data": {
      "text/plain": [
       "['/Users/lujiawen/Desktop/fb_estimator.pkl']"
      ]
     },
     "execution_count": 47,
     "metadata": {},
     "output_type": "execute_result"
    }
   ],
   "source": [
    "joblib.dump(estimator,'/Users/lujiawen/Desktop/fb_estimator.pkl')"
   ]
  },
  {
   "cell_type": "markdown",
   "metadata": {},
   "source": [
    "### 模型加载"
   ]
  },
  {
   "cell_type": "code",
   "execution_count": null,
   "metadata": {},
   "outputs": [],
   "source": [
    " estimator = joblib.load()"
   ]
  }
 ],
 "metadata": {
  "kernelspec": {
   "display_name": "Python 3",
   "language": "python",
   "name": "python3"
  },
  "language_info": {
   "codemirror_mode": {
    "name": "ipython",
    "version": 3
   },
   "file_extension": ".py",
   "mimetype": "text/x-python",
   "name": "python",
   "nbconvert_exporter": "python",
   "pygments_lexer": "ipython3",
   "version": "3.6.4"
  },
  "toc": {
   "base_numbering": 1,
   "nav_menu": {},
   "number_sections": true,
   "sideBar": true,
   "skip_h1_title": false,
   "title_cell": "Table of Contents",
   "title_sidebar": "Contents",
   "toc_cell": false,
   "toc_position": {},
   "toc_section_display": true,
   "toc_window_display": true
  }
 },
 "nbformat": 4,
 "nbformat_minor": 2
}
