{
 "cells": [
  {
   "cell_type": "code",
   "execution_count": 9,
   "metadata": {},
   "outputs": [],
   "source": [
    "from sklearn.feature_extraction import DictVectorizer\n",
    "from sklearn.feature_extraction.text import CountVectorizer"
   ]
  },
  {
   "cell_type": "markdown",
   "metadata": {},
   "source": [
    "### 字典特征"
   ]
  },
  {
   "cell_type": "code",
   "execution_count": 6,
   "metadata": {},
   "outputs": [
    {
     "name": "stdout",
     "output_type": "stream",
     "text": [
      "返回的结果:\n",
      "   (0, 1)\t1.0\n",
      "  (0, 3)\t100.0\n",
      "  (1, 0)\t1.0\n",
      "  (1, 3)\t60.0\n",
      "  (2, 2)\t1.0\n",
      "  (2, 3)\t30.0\n",
      "特征名字：\n",
      " ['city=上海', 'city=北京', 'city=深圳', 'temperature']\n"
     ]
    }
   ],
   "source": [
    "data = [{'city': '北京','temperature':100}, {'city': '上海','temperature':60}, {'city': '深圳','temperature':30}]\n",
    "# 1、实例化一个转换器类\n",
    "transfer = DictVectorizer(sparse=False) #sparse=False\n",
    "# 2、调用fit_transform\n",
    "data = transfer.fit_transform(data)\n",
    "print(\"返回的结果:\\n\", data)\n",
    "# 打印特征名字\n",
    "print(\"特征名字：\\n\", transfer.get_feature_names())\n"
   ]
  },
  {
   "cell_type": "markdown",
   "metadata": {},
   "source": [
    "### 文本特征"
   ]
  },
  {
   "cell_type": "code",
   "execution_count": 10,
   "metadata": {},
   "outputs": [
    {
     "name": "stdout",
     "output_type": "stream",
     "text": [
      "文本特征抽取的结果：\n",
      " [[0 1 1 2 0 1 1 0]\n",
      " [1 1 1 0 1 1 0 1]]\n",
      "返回特征名字：\n",
      " ['dislike', 'is', 'life', 'like', 'long', 'python', 'short', 'too']\n"
     ]
    }
   ],
   "source": [
    "data = [\"life is short,i like like python\", \"life is too long,i dislike python\"]\n",
    "# 1、实例化一个转换器类\n",
    "# transfer = CountVectorizer(sparse=False) # 注意,没有sparse这个参数\n",
    "transfer = CountVectorizer()\n",
    "# 2、调用fit_transform\n",
    "data = transfer.fit_transform(data)\n",
    "print(\"文本特征抽取的结果：\\n\", data.toarray())\n",
    "print(\"返回特征名字：\\n\", transfer.get_feature_names())"
   ]
  },
  {
   "cell_type": "markdown",
   "metadata": {},
   "source": [
    "#### 分词"
   ]
  },
  {
   "cell_type": "markdown",
   "metadata": {},
   "source": [
    "##### 铺垫-助理解"
   ]
  },
  {
   "cell_type": "code",
   "execution_count": 14,
   "metadata": {},
   "outputs": [
    {
     "name": "stdout",
     "output_type": "stream",
     "text": [
      "一种还是一种今天很残酷，明天更残酷，后天很美好，但绝对大部分是死在明天晚上，所以每个人不要放弃今天。\n",
      "\n",
      "我们看到的从很远星系来的光是在几百万年之前发出的，这样当我们看到宇宙时，我们是在看它的过去。\n",
      "\n",
      "如果只用一种方式了解某样事物，你就不会真正了解它。了解事物真正含义的秘密取决于如何将其与我们所了解的事物相联系。\n",
      "\n"
     ]
    }
   ],
   "source": [
    "data = [\"一种还是一种今天很残酷，明天更残酷，后天很美好，但绝对大部分是死在明天晚上，所以每个人不要放弃今天。\",\n",
    "            \"我们看到的从很远星系来的光是在几百万年之前发出的，这样当我们看到宇宙时，我们是在看它的过去。\",\n",
    "            \"如果只用一种方式了解某样事物，你就不会真正了解它。了解事物真正含义的秘密取决于如何将其与我们所了解的事物相联系。\"]\n",
    "for sent in data: #sent就是从列表中取出的一句句句子字符串啦～\n",
    "    print(sent)\n",
    "    print()"
   ]
  },
  {
   "cell_type": "code",
   "execution_count": 47,
   "metadata": {},
   "outputs": [
    {
     "data": {
      "text/plain": [
       "'A,B'"
      ]
     },
     "execution_count": 47,
     "metadata": {},
     "output_type": "execute_result"
    }
   ],
   "source": [
    "A='AB'\n",
    "text = ','.join(A)\n",
    "text"
   ]
  },
  {
   "cell_type": "code",
   "execution_count": 54,
   "metadata": {},
   "outputs": [
    {
     "data": {
      "text/plain": [
       "'一种/还是/一种/今天/很/残酷/，/明天/更/残酷/，/后天/很/美好/，/但/绝对/大部分/是/死/在/明天/晚上/，/所以/每个/人/不要/放弃/今天/。'"
      ]
     },
     "execution_count": 54,
     "metadata": {},
     "output_type": "execute_result"
    }
   ],
   "source": [
    "import jieba\n",
    "data = \"一种还是一种今天很残酷，明天更残酷，后天很美好，但绝对大部分是死在明天晚上，所以每个人不要放弃今天。\"\n",
    "jieba.cut(data)\n",
    "# print(list(jieba.cut(data)) #ERROR\n",
    "text = \"/\".join(list(jieba.cut(data)))\n",
    "text"
   ]
  },
  {
   "cell_type": "code",
   "execution_count": 67,
   "metadata": {},
   "outputs": [
    {
     "name": "stdout",
     "output_type": "stream",
     "text": [
      "['一种/还是/一种/今天/很/残酷/，/明天/更/残酷/，/后天/很/美好/，/但/绝对/大部分/是/死/在/明天/晚上/，/所以/每个/人/不要/放弃/今天/。', '---------', '我们/看到/的/从/很/远/星系/来/的/光是在/几百万年/之前/发出/的/，/这样/当/我们/看到/宇宙/时/，/我们/是/在/看/它/的/过去/。', '---------', '如果/只用/一种/方式/了解/某样/事物/，/你/就/不会/真正/了解/它/。/了解/事物/真正/含义/的/秘密/取决于/如何/将/其/与/我们/所/了解/的/事物/相/联系/。', '---------']\n"
     ]
    }
   ],
   "source": [
    "import jieba\n",
    "data = [\"一种还是一种今天很残酷，明天更残酷，后天很美好，但绝对大部分是死在明天晚上，所以每个人不要放弃今天。\",\n",
    "            \"我们看到的从很远星系来的光是在几百万年之前发出的，这样当我们看到宇宙时，我们是在看它的过去。\",\n",
    "            \"如果只用一种方式了解某样事物，你就不会真正了解它。了解事物真正含义的秘密取决于如何将其与我们所了解的事物相联系。\"]\n",
    "    # 将原始数据转换成分好词的形式\n",
    "text_list = []\n",
    "for sent in data:\n",
    "    text_list.append(\"/\".join(list(jieba.cut(sent))))\n",
    "    text_list.append('---------')\n",
    "#     print('--------')\n",
    "print(text_list)"
   ]
  },
  {
   "cell_type": "markdown",
   "metadata": {},
   "source": [
    "##### 开始分词"
   ]
  },
  {
   "cell_type": "code",
   "execution_count": 69,
   "metadata": {},
   "outputs": [
    {
     "name": "stdout",
     "output_type": "stream",
     "text": [
      "['一种/还是/一种/今天/很/残酷/，/明天/更/残酷/，/后天/很/美好/，/但/绝对/大部分/是/死/在/明天/晚上/，/所以/每个/人/不要/放弃/今天/。', '---------', '我们/看到/的/从/很/远/星系/来/的/光是在/几百万年/之前/发出/的/，/这样/当/我们/看到/宇宙/时/，/我们/是/在/看/它/的/过去/。', '---------', '如果/只用/一种/方式/了解/某样/事物/，/你/就/不会/真正/了解/它/。/了解/事物/真正/含义/的/秘密/取决于/如何/将/其/与/我们/所/了解/的/事物/相/联系/。', '---------']\n",
      "文本特征抽取的结果：\n",
      " [[2 0 1 0 0 0 2 0 0 0 0 0 1 0 1 0 0 0 0 1 1 0 2 0 1 0 2 1 0 0 0 1 1 0 0 1\n",
      "  0]\n",
      " [0 0 0 0 0 0 0 0 0 0 0 0 0 0 0 0 0 0 0 0 0 0 0 0 0 0 0 0 0 0 0 0 0 0 0 0\n",
      "  0]\n",
      " [0 0 0 1 0 0 0 1 1 1 0 0 0 0 0 0 0 1 3 0 0 0 0 1 0 0 0 0 2 0 0 0 0 0 1 0\n",
      "  1]\n",
      " [0 0 0 0 0 0 0 0 0 0 0 0 0 0 0 0 0 0 0 0 0 0 0 0 0 0 0 0 0 0 0 0 0 0 0 0\n",
      "  0]\n",
      " [1 1 0 0 4 3 0 0 0 0 1 1 0 1 0 1 1 0 1 0 0 1 0 0 0 1 0 0 0 2 1 0 0 1 0 0\n",
      "  0]\n",
      " [0 0 0 0 0 0 0 0 0 0 0 0 0 0 0 0 0 0 0 0 0 0 0 0 0 0 0 0 0 0 0 0 0 0 0 0\n",
      "  0]]\n",
      "返回特征名字：\n",
      " ['一种', '不会', '不要', '之前', '了解', '事物', '今天', '光是在', '几百万年', '发出', '取决于', '只用', '后天', '含义', '大部分', '如何', '如果', '宇宙', '我们', '所以', '放弃', '方式', '明天', '星系', '晚上', '某样', '残酷', '每个', '看到', '真正', '秘密', '绝对', '美好', '联系', '过去', '还是', '这样']\n"
     ]
    }
   ],
   "source": [
    "import jieba\n",
    "def cut(text):\n",
    "    text=\"/\".join(list(jieba.cut(text)))\n",
    "    return text\n",
    "\n",
    "data = [\"一种还是一种今天很残酷，明天更残酷，后天很美好，但绝对大部分是死在明天晚上，所以每个人不要放弃今天。\",\n",
    "            \"我们看到的从很远星系来的光是在几百万年之前发出的，这样当我们看到宇宙时，我们是在看它的过去。\",\n",
    "            \"如果只用一种方式了解某样事物，你就不会真正了解它。了解事物真正含义的秘密取决于如何将其与我们所了解的事物相联系。\"]\n",
    "    # 将原始数据转换成分好词的形式\n",
    "text_list = []\n",
    "for sent in data:\n",
    "    text_list.append(cut(sent))\n",
    "    text_list.append('---------')\n",
    "#     print('--------')\n",
    "print(text_list)\n",
    "\n",
    "\n",
    "# 1、实例化一个转换器类\n",
    "# transfer = CountVectorizer(sparse=False)\n",
    "transfer = CountVectorizer()\n",
    "# 2、调用fit_transform\n",
    "data = transfer.fit_transform(text_list)\n",
    "print(\"文本特征抽取的结果：\\n\", data.toarray())\n",
    "print(\"返回特征名字：\\n\", transfer.get_feature_names())\n"
   ]
  },
  {
   "cell_type": "code",
   "execution_count": 21,
   "metadata": {},
   "outputs": [
    {
     "name": "stdout",
     "output_type": "stream",
     "text": [
      "['人生/苦短/，/我/喜欢/Python', '生活/太长久/，/我/不/喜欢/Python']\n"
     ]
    }
   ],
   "source": [
    "import jieba    \n",
    "text = [\"人生苦短，我喜欢Python\",\"生活太长久，我不喜欢Python\"]\n",
    "list =[]\n",
    "for i in text:\n",
    "    data=\"/\".join(jieba.cut(i))\n",
    "    list.append(data)\n",
    "print(list)\n"
   ]
  },
  {
   "cell_type": "code",
   "execution_count": null,
   "metadata": {},
   "outputs": [],
   "source": []
  },
  {
   "cell_type": "code",
   "execution_count": null,
   "metadata": {},
   "outputs": [],
   "source": []
  }
 ],
 "metadata": {
  "kernelspec": {
   "display_name": "Python 3",
   "language": "python",
   "name": "python3"
  },
  "language_info": {
   "codemirror_mode": {
    "name": "ipython",
    "version": 3
   },
   "file_extension": ".py",
   "mimetype": "text/x-python",
   "name": "python",
   "nbconvert_exporter": "python",
   "pygments_lexer": "ipython3",
   "version": "3.6.4"
  },
  "toc": {
   "base_numbering": 1,
   "nav_menu": {},
   "number_sections": true,
   "sideBar": true,
   "skip_h1_title": false,
   "title_cell": "Table of Contents",
   "title_sidebar": "Contents",
   "toc_cell": false,
   "toc_position": {},
   "toc_section_display": true,
   "toc_window_display": false
  }
 },
 "nbformat": 4,
 "nbformat_minor": 2
}
