{
 "cells": [
  {
   "cell_type": "markdown",
   "metadata": {},
   "source": [
    "### 获取数据"
   ]
  },
  {
   "cell_type": "code",
   "execution_count": 2,
   "metadata": {},
   "outputs": [],
   "source": [
    "import pandas as pd\n",
    "import numpy as np\n",
    "import matplotlib.pyplot as plt\n",
    "from sklearn.model_selection import train_test_split\n",
    "from sklearn.feature_extraction.text import CountVectorizer\n",
    "from sklearn.preprocessing import StandardScaler\n",
    "from sklearn.linear_model import SGDRegressor\n",
    "from sklearn.linear_model import Ridge\n",
    "from sklearn.metrics import mean_squared_error\n",
    "from sklearn.decomposition import PCA\n",
    "from sklearn.feature_selection import VarianceThreshold\n",
    "from sklearn.externals import joblib"
   ]
  },
  {
   "cell_type": "code",
   "execution_count": 3,
   "metadata": {},
   "outputs": [
    {
     "data": {
      "text/html": [
       "<div>\n",
       "<style scoped>\n",
       "    .dataframe tbody tr th:only-of-type {\n",
       "        vertical-align: middle;\n",
       "    }\n",
       "\n",
       "    .dataframe tbody tr th {\n",
       "        vertical-align: top;\n",
       "    }\n",
       "\n",
       "    .dataframe thead th {\n",
       "        text-align: right;\n",
       "    }\n",
       "</style>\n",
       "<table border=\"1\" class=\"dataframe\">\n",
       "  <thead>\n",
       "    <tr style=\"text-align: right;\">\n",
       "      <th></th>\n",
       "      <th>Id</th>\n",
       "      <th>groupId</th>\n",
       "      <th>matchId</th>\n",
       "      <th>assists</th>\n",
       "      <th>boosts</th>\n",
       "      <th>damageDealt</th>\n",
       "      <th>DBNOs</th>\n",
       "      <th>headshotKills</th>\n",
       "      <th>heals</th>\n",
       "      <th>killPlace</th>\n",
       "      <th>...</th>\n",
       "      <th>rankPoints</th>\n",
       "      <th>revives</th>\n",
       "      <th>rideDistance</th>\n",
       "      <th>roadKills</th>\n",
       "      <th>swimDistance</th>\n",
       "      <th>teamKills</th>\n",
       "      <th>vehicleDestroys</th>\n",
       "      <th>walkDistance</th>\n",
       "      <th>weaponsAcquired</th>\n",
       "      <th>winPoints</th>\n",
       "    </tr>\n",
       "  </thead>\n",
       "  <tbody>\n",
       "    <tr>\n",
       "      <th>0</th>\n",
       "      <td>9329eb41e215eb</td>\n",
       "      <td>676b23c24e70d6</td>\n",
       "      <td>45b576ab7daa7f</td>\n",
       "      <td>0</td>\n",
       "      <td>0</td>\n",
       "      <td>51.46</td>\n",
       "      <td>0</td>\n",
       "      <td>0</td>\n",
       "      <td>0</td>\n",
       "      <td>73</td>\n",
       "      <td>...</td>\n",
       "      <td>1500</td>\n",
       "      <td>0</td>\n",
       "      <td>0.0</td>\n",
       "      <td>0</td>\n",
       "      <td>0.0</td>\n",
       "      <td>0</td>\n",
       "      <td>0</td>\n",
       "      <td>588.0</td>\n",
       "      <td>1</td>\n",
       "      <td>0</td>\n",
       "    </tr>\n",
       "    <tr>\n",
       "      <th>1</th>\n",
       "      <td>639bd0dcd7bda8</td>\n",
       "      <td>430933124148dd</td>\n",
       "      <td>42a9a0b906c928</td>\n",
       "      <td>0</td>\n",
       "      <td>4</td>\n",
       "      <td>179.10</td>\n",
       "      <td>0</td>\n",
       "      <td>0</td>\n",
       "      <td>2</td>\n",
       "      <td>11</td>\n",
       "      <td>...</td>\n",
       "      <td>1503</td>\n",
       "      <td>2</td>\n",
       "      <td>4669.0</td>\n",
       "      <td>0</td>\n",
       "      <td>0.0</td>\n",
       "      <td>0</td>\n",
       "      <td>0</td>\n",
       "      <td>2017.0</td>\n",
       "      <td>6</td>\n",
       "      <td>0</td>\n",
       "    </tr>\n",
       "    <tr>\n",
       "      <th>2</th>\n",
       "      <td>63d5c8ef8dfe91</td>\n",
       "      <td>0b45f5db20ba99</td>\n",
       "      <td>87e7e4477a048e</td>\n",
       "      <td>1</td>\n",
       "      <td>0</td>\n",
       "      <td>23.40</td>\n",
       "      <td>0</td>\n",
       "      <td>0</td>\n",
       "      <td>4</td>\n",
       "      <td>49</td>\n",
       "      <td>...</td>\n",
       "      <td>1565</td>\n",
       "      <td>0</td>\n",
       "      <td>0.0</td>\n",
       "      <td>0</td>\n",
       "      <td>0.0</td>\n",
       "      <td>0</td>\n",
       "      <td>0</td>\n",
       "      <td>787.8</td>\n",
       "      <td>4</td>\n",
       "      <td>0</td>\n",
       "    </tr>\n",
       "    <tr>\n",
       "      <th>3</th>\n",
       "      <td>cf5b81422591d1</td>\n",
       "      <td>b7497dbdc77f4a</td>\n",
       "      <td>1b9a94f1af67f1</td>\n",
       "      <td>0</td>\n",
       "      <td>0</td>\n",
       "      <td>65.52</td>\n",
       "      <td>0</td>\n",
       "      <td>0</td>\n",
       "      <td>0</td>\n",
       "      <td>54</td>\n",
       "      <td>...</td>\n",
       "      <td>1465</td>\n",
       "      <td>0</td>\n",
       "      <td>0.0</td>\n",
       "      <td>0</td>\n",
       "      <td>0.0</td>\n",
       "      <td>0</td>\n",
       "      <td>0</td>\n",
       "      <td>1812.0</td>\n",
       "      <td>3</td>\n",
       "      <td>0</td>\n",
       "    </tr>\n",
       "    <tr>\n",
       "      <th>4</th>\n",
       "      <td>ee6a295187ba21</td>\n",
       "      <td>6604ce20a1d230</td>\n",
       "      <td>40754a93016066</td>\n",
       "      <td>0</td>\n",
       "      <td>4</td>\n",
       "      <td>330.20</td>\n",
       "      <td>1</td>\n",
       "      <td>2</td>\n",
       "      <td>1</td>\n",
       "      <td>7</td>\n",
       "      <td>...</td>\n",
       "      <td>1480</td>\n",
       "      <td>1</td>\n",
       "      <td>0.0</td>\n",
       "      <td>0</td>\n",
       "      <td>0.0</td>\n",
       "      <td>0</td>\n",
       "      <td>0</td>\n",
       "      <td>2963.0</td>\n",
       "      <td>4</td>\n",
       "      <td>0</td>\n",
       "    </tr>\n",
       "  </tbody>\n",
       "</table>\n",
       "<p>5 rows × 28 columns</p>\n",
       "</div>"
      ],
      "text/plain": [
       "               Id         groupId         matchId  assists  boosts  \\\n",
       "0  9329eb41e215eb  676b23c24e70d6  45b576ab7daa7f        0       0   \n",
       "1  639bd0dcd7bda8  430933124148dd  42a9a0b906c928        0       4   \n",
       "2  63d5c8ef8dfe91  0b45f5db20ba99  87e7e4477a048e        1       0   \n",
       "3  cf5b81422591d1  b7497dbdc77f4a  1b9a94f1af67f1        0       0   \n",
       "4  ee6a295187ba21  6604ce20a1d230  40754a93016066        0       4   \n",
       "\n",
       "   damageDealt  DBNOs  headshotKills  heals  killPlace    ...      rankPoints  \\\n",
       "0        51.46      0              0      0         73    ...            1500   \n",
       "1       179.10      0              0      2         11    ...            1503   \n",
       "2        23.40      0              0      4         49    ...            1565   \n",
       "3        65.52      0              0      0         54    ...            1465   \n",
       "4       330.20      1              2      1          7    ...            1480   \n",
       "\n",
       "   revives  rideDistance  roadKills  swimDistance teamKills  vehicleDestroys  \\\n",
       "0        0           0.0          0           0.0         0                0   \n",
       "1        2        4669.0          0           0.0         0                0   \n",
       "2        0           0.0          0           0.0         0                0   \n",
       "3        0           0.0          0           0.0         0                0   \n",
       "4        1           0.0          0           0.0         0                0   \n",
       "\n",
       "   walkDistance  weaponsAcquired  winPoints  \n",
       "0         588.0                1          0  \n",
       "1        2017.0                6          0  \n",
       "2         787.8                4          0  \n",
       "3        1812.0                3          0  \n",
       "4        2963.0                4          0  \n",
       "\n",
       "[5 rows x 28 columns]"
      ]
     },
     "execution_count": 3,
     "metadata": {},
     "output_type": "execute_result"
    }
   ],
   "source": [
    "data = pd.read_csv('/Users/lujiawen/Desktop/第八组/test_V2.csv')\n",
    "data.head()"
   ]
  },
  {
   "cell_type": "code",
   "execution_count": 4,
   "metadata": {},
   "outputs": [
    {
     "data": {
      "text/plain": [
       "(1934174, 28)"
      ]
     },
     "execution_count": 4,
     "metadata": {},
     "output_type": "execute_result"
    }
   ],
   "source": [
    "data.shape"
   ]
  },
  {
   "cell_type": "markdown",
   "metadata": {},
   "source": [
    "### 数据处理"
   ]
  },
  {
   "cell_type": "markdown",
   "metadata": {},
   "source": [
    "#### 异常值"
   ]
  },
  {
   "cell_type": "markdown",
   "metadata": {},
   "source": [
    "##### 缺失值---判断有无缺失值"
   ]
  },
  {
   "cell_type": "code",
   "execution_count": 7,
   "metadata": {},
   "outputs": [
    {
     "data": {
      "text/plain": [
       "False"
      ]
     },
     "execution_count": 7,
     "metadata": {},
     "output_type": "execute_result"
    }
   ],
   "source": [
    "np.any(pd.isnull(data))"
   ]
  },
  {
   "cell_type": "markdown",
   "metadata": {},
   "source": [
    "#### 缩小数据范围"
   ]
  },
  {
   "cell_type": "markdown",
   "metadata": {},
   "source": [
    "##### 小组"
   ]
  },
  {
   "cell_type": "code",
   "execution_count": 11,
   "metadata": {},
   "outputs": [
    {
     "data": {
      "text/plain": [
       "(1922404, 28)"
      ]
     },
     "execution_count": 11,
     "metadata": {},
     "output_type": "execute_result"
    }
   ],
   "source": [
    "group_count = data.groupby('matchId').count()\n",
    "group_count = group_count[(group_count['Id']>70)] \n",
    "group_count\n",
    "data_true_ = data[data[\"matchId\"].isin(group_count.index)]\n",
    "data_true_\n",
    "data_true_.shape"
   ]
  },
  {
   "cell_type": "markdown",
   "metadata": {},
   "source": [
    "##### 切片"
   ]
  },
  {
   "cell_type": "code",
   "execution_count": 9,
   "metadata": {},
   "outputs": [
    {
     "data": {
      "text/plain": [
       "(96121, 28)"
      ]
     },
     "execution_count": 9,
     "metadata": {},
     "output_type": "execute_result"
    }
   ],
   "source": [
    "# data_ = data_true_[::20]\n",
    "# data_.shape"
   ]
  },
  {
   "cell_type": "code",
   "execution_count": 10,
   "metadata": {
    "scrolled": true
   },
   "outputs": [
    {
     "data": {
      "text/html": [
       "<div>\n",
       "<style scoped>\n",
       "    .dataframe tbody tr th:only-of-type {\n",
       "        vertical-align: middle;\n",
       "    }\n",
       "\n",
       "    .dataframe tbody tr th {\n",
       "        vertical-align: top;\n",
       "    }\n",
       "\n",
       "    .dataframe thead th {\n",
       "        text-align: right;\n",
       "    }\n",
       "</style>\n",
       "<table border=\"1\" class=\"dataframe\">\n",
       "  <thead>\n",
       "    <tr style=\"text-align: right;\">\n",
       "      <th></th>\n",
       "      <th>Id</th>\n",
       "      <th>groupId</th>\n",
       "      <th>matchId</th>\n",
       "      <th>assists</th>\n",
       "      <th>boosts</th>\n",
       "      <th>damageDealt</th>\n",
       "      <th>DBNOs</th>\n",
       "      <th>headshotKills</th>\n",
       "      <th>heals</th>\n",
       "      <th>killPlace</th>\n",
       "      <th>...</th>\n",
       "      <th>rankPoints</th>\n",
       "      <th>revives</th>\n",
       "      <th>rideDistance</th>\n",
       "      <th>roadKills</th>\n",
       "      <th>swimDistance</th>\n",
       "      <th>teamKills</th>\n",
       "      <th>vehicleDestroys</th>\n",
       "      <th>walkDistance</th>\n",
       "      <th>weaponsAcquired</th>\n",
       "      <th>winPoints</th>\n",
       "    </tr>\n",
       "  </thead>\n",
       "  <tbody>\n",
       "    <tr>\n",
       "      <th>0</th>\n",
       "      <td>9329eb41e215eb</td>\n",
       "      <td>676b23c24e70d6</td>\n",
       "      <td>45b576ab7daa7f</td>\n",
       "      <td>0</td>\n",
       "      <td>0</td>\n",
       "      <td>51.46</td>\n",
       "      <td>0</td>\n",
       "      <td>0</td>\n",
       "      <td>0</td>\n",
       "      <td>73</td>\n",
       "      <td>...</td>\n",
       "      <td>1500</td>\n",
       "      <td>0</td>\n",
       "      <td>0.0</td>\n",
       "      <td>0</td>\n",
       "      <td>0.0</td>\n",
       "      <td>0</td>\n",
       "      <td>0</td>\n",
       "      <td>588.00</td>\n",
       "      <td>1</td>\n",
       "      <td>0</td>\n",
       "    </tr>\n",
       "    <tr>\n",
       "      <th>20</th>\n",
       "      <td>8a706bc525a3cb</td>\n",
       "      <td>22d1e4cd6d6a62</td>\n",
       "      <td>08f83a93dbd231</td>\n",
       "      <td>0</td>\n",
       "      <td>1</td>\n",
       "      <td>25.80</td>\n",
       "      <td>0</td>\n",
       "      <td>0</td>\n",
       "      <td>0</td>\n",
       "      <td>44</td>\n",
       "      <td>...</td>\n",
       "      <td>1547</td>\n",
       "      <td>0</td>\n",
       "      <td>7481.0</td>\n",
       "      <td>0</td>\n",
       "      <td>0.0</td>\n",
       "      <td>0</td>\n",
       "      <td>0</td>\n",
       "      <td>2168.00</td>\n",
       "      <td>1</td>\n",
       "      <td>0</td>\n",
       "    </tr>\n",
       "    <tr>\n",
       "      <th>40</th>\n",
       "      <td>51e0ba397b24d5</td>\n",
       "      <td>5cc05cfe8feb6d</td>\n",
       "      <td>d6c2929b422854</td>\n",
       "      <td>4</td>\n",
       "      <td>4</td>\n",
       "      <td>208.50</td>\n",
       "      <td>0</td>\n",
       "      <td>0</td>\n",
       "      <td>8</td>\n",
       "      <td>44</td>\n",
       "      <td>...</td>\n",
       "      <td>-1</td>\n",
       "      <td>0</td>\n",
       "      <td>268.9</td>\n",
       "      <td>0</td>\n",
       "      <td>0.0</td>\n",
       "      <td>0</td>\n",
       "      <td>0</td>\n",
       "      <td>3368.00</td>\n",
       "      <td>6</td>\n",
       "      <td>1477</td>\n",
       "    </tr>\n",
       "    <tr>\n",
       "      <th>60</th>\n",
       "      <td>800e92d02a2da3</td>\n",
       "      <td>d0a828bd6d26cf</td>\n",
       "      <td>c71033ff38ec90</td>\n",
       "      <td>0</td>\n",
       "      <td>0</td>\n",
       "      <td>25.74</td>\n",
       "      <td>0</td>\n",
       "      <td>0</td>\n",
       "      <td>0</td>\n",
       "      <td>55</td>\n",
       "      <td>...</td>\n",
       "      <td>1510</td>\n",
       "      <td>0</td>\n",
       "      <td>0.0</td>\n",
       "      <td>0</td>\n",
       "      <td>0.0</td>\n",
       "      <td>0</td>\n",
       "      <td>0</td>\n",
       "      <td>154.90</td>\n",
       "      <td>4</td>\n",
       "      <td>0</td>\n",
       "    </tr>\n",
       "    <tr>\n",
       "      <th>80</th>\n",
       "      <td>109659fc9d360b</td>\n",
       "      <td>4baf81131e479f</td>\n",
       "      <td>a9f0813690de2d</td>\n",
       "      <td>0</td>\n",
       "      <td>0</td>\n",
       "      <td>47.75</td>\n",
       "      <td>0</td>\n",
       "      <td>0</td>\n",
       "      <td>0</td>\n",
       "      <td>92</td>\n",
       "      <td>...</td>\n",
       "      <td>-1</td>\n",
       "      <td>0</td>\n",
       "      <td>0.0</td>\n",
       "      <td>0</td>\n",
       "      <td>0.0</td>\n",
       "      <td>0</td>\n",
       "      <td>0</td>\n",
       "      <td>84.52</td>\n",
       "      <td>2</td>\n",
       "      <td>1453</td>\n",
       "    </tr>\n",
       "  </tbody>\n",
       "</table>\n",
       "<p>5 rows × 28 columns</p>\n",
       "</div>"
      ],
      "text/plain": [
       "                Id         groupId         matchId  assists  boosts  \\\n",
       "0   9329eb41e215eb  676b23c24e70d6  45b576ab7daa7f        0       0   \n",
       "20  8a706bc525a3cb  22d1e4cd6d6a62  08f83a93dbd231        0       1   \n",
       "40  51e0ba397b24d5  5cc05cfe8feb6d  d6c2929b422854        4       4   \n",
       "60  800e92d02a2da3  d0a828bd6d26cf  c71033ff38ec90        0       0   \n",
       "80  109659fc9d360b  4baf81131e479f  a9f0813690de2d        0       0   \n",
       "\n",
       "    damageDealt  DBNOs  headshotKills  heals  killPlace    ...      \\\n",
       "0         51.46      0              0      0         73    ...       \n",
       "20        25.80      0              0      0         44    ...       \n",
       "40       208.50      0              0      8         44    ...       \n",
       "60        25.74      0              0      0         55    ...       \n",
       "80        47.75      0              0      0         92    ...       \n",
       "\n",
       "    rankPoints  revives  rideDistance  roadKills  swimDistance teamKills  \\\n",
       "0         1500        0           0.0          0           0.0         0   \n",
       "20        1547        0        7481.0          0           0.0         0   \n",
       "40          -1        0         268.9          0           0.0         0   \n",
       "60        1510        0           0.0          0           0.0         0   \n",
       "80          -1        0           0.0          0           0.0         0   \n",
       "\n",
       "    vehicleDestroys  walkDistance  weaponsAcquired  winPoints  \n",
       "0                 0        588.00                1          0  \n",
       "20                0       2168.00                1          0  \n",
       "40                0       3368.00                6       1477  \n",
       "60                0        154.90                4          0  \n",
       "80                0         84.52                2       1453  \n",
       "\n",
       "[5 rows x 28 columns]"
      ]
     },
     "execution_count": 10,
     "metadata": {},
     "output_type": "execute_result"
    }
   ],
   "source": [
    "# data_.head()"
   ]
  },
  {
   "cell_type": "markdown",
   "metadata": {},
   "source": [
    "##### 可视化分析开挂数据并剔除"
   ]
  },
  {
   "cell_type": "code",
   "execution_count": 24,
   "metadata": {},
   "outputs": [
    {
     "data": {
      "text/plain": [
       "765679     46\n",
       "654579     40\n",
       "646550     36\n",
       "1315868    34\n",
       "626100     33\n",
       "Name: kills, dtype: int64"
      ]
     },
     "execution_count": 24,
     "metadata": {},
     "output_type": "execute_result"
    }
   ],
   "source": [
    "waigua = 'kills'\n",
    "data_true_.sort_values(by= waigua,ascending=False)[waigua].head()"
   ]
  },
  {
   "cell_type": "code",
   "execution_count": 15,
   "metadata": {},
   "outputs": [
    {
     "data": {
      "image/png": "[encoded data removed]",
      "text/plain": [
       "<matplotlib.figure.Figure at 0x10becef28>"
      ]
     },
     "metadata": {},
     "output_type": "display_data"
    }
   ],
   "source": [
    "plt.figure(figsize=(20, 8), dpi=80)\n",
    "x= data_true_.index\n",
    "y= data_true_[waigua]\n",
    "plt.scatter(x,y)\n",
    "plt.grid(True, linestyle='--', alpha=0.5)\n",
    "plt.show()"
   ]
  },
  {
   "cell_type": "code",
   "execution_count": 25,
   "metadata": {},
   "outputs": [
    {
     "data": {
      "text/plain": [
       "(1922360, 28)"
      ]
     },
     "execution_count": 25,
     "metadata": {},
     "output_type": "execute_result"
    }
   ],
   "source": [
    "# 去掉击杀数大于20的玩家\n",
    "data_true = data_true_[(data_true_[waigua]<20)] \n",
    "data_true\n",
    "data_true.shape"
   ]
  },
  {
   "cell_type": "markdown",
   "metadata": {},
   "source": [
    "##### 文本数据替换"
   ]
  },
  {
   "cell_type": "markdown",
   "metadata": {},
   "source": []
  },
  {
   "cell_type": "code",
   "execution_count": 26,
   "metadata": {},
   "outputs": [
    {
     "name": "stderr",
     "output_type": "stream",
     "text": [
      "/anaconda3/lib/python3.6/site-packages/pandas/core/indexing.py:537: SettingWithCopyWarning: \n",
      "A value is trying to be set on a copy of a slice from a DataFrame.\n",
      "Try using .loc[row_indexer,col_indexer] = value instead\n",
      "\n",
      "See the caveats in the documentation: http://pandas.pydata.org/pandas-docs/stable/indexing.html#indexing-view-versus-copy\n",
      "  self.obj[item] = s\n"
     ]
    }
   ],
   "source": [
    "data_true.loc[data_true['matchType']=='solo','matchType'] = 1\n",
    "data_true.loc[data_true['matchType']=='duo','matchType'] = 2\n",
    "data_true.loc[data_true['matchType']=='squad','matchType'] = 3\n",
    "data_true.loc[data_true['matchType']=='solo-fpp','matchType'] = 4\n",
    "data_true.loc[data_true['matchType']=='duo-fpp','matchType'] = 5\n",
    "data_true.loc[data_true['matchType']=='squad-fpp','matchType'] = 6"
   ]
  },
  {
   "cell_type": "code",
   "execution_count": 17,
   "metadata": {},
   "outputs": [
    {
     "data": {
      "text/html": [
       "<div>\n",
       "<style scoped>\n",
       "    .dataframe tbody tr th:only-of-type {\n",
       "        vertical-align: middle;\n",
       "    }\n",
       "\n",
       "    .dataframe tbody tr th {\n",
       "        vertical-align: top;\n",
       "    }\n",
       "\n",
       "    .dataframe thead th {\n",
       "        text-align: right;\n",
       "    }\n",
       "</style>\n",
       "<table border=\"1\" class=\"dataframe\">\n",
       "  <thead>\n",
       "    <tr style=\"text-align: right;\">\n",
       "      <th></th>\n",
       "      <th>Id</th>\n",
       "      <th>groupId</th>\n",
       "      <th>matchId</th>\n",
       "      <th>assists</th>\n",
       "      <th>boosts</th>\n",
       "      <th>damageDealt</th>\n",
       "      <th>DBNOs</th>\n",
       "      <th>headshotKills</th>\n",
       "      <th>heals</th>\n",
       "      <th>killPlace</th>\n",
       "      <th>...</th>\n",
       "      <th>rankPoints</th>\n",
       "      <th>revives</th>\n",
       "      <th>rideDistance</th>\n",
       "      <th>roadKills</th>\n",
       "      <th>swimDistance</th>\n",
       "      <th>teamKills</th>\n",
       "      <th>vehicleDestroys</th>\n",
       "      <th>walkDistance</th>\n",
       "      <th>weaponsAcquired</th>\n",
       "      <th>winPoints</th>\n",
       "    </tr>\n",
       "  </thead>\n",
       "  <tbody>\n",
       "    <tr>\n",
       "      <th>0</th>\n",
       "      <td>9329eb41e215eb</td>\n",
       "      <td>676b23c24e70d6</td>\n",
       "      <td>45b576ab7daa7f</td>\n",
       "      <td>0</td>\n",
       "      <td>0</td>\n",
       "      <td>51.46</td>\n",
       "      <td>0</td>\n",
       "      <td>0</td>\n",
       "      <td>0</td>\n",
       "      <td>73</td>\n",
       "      <td>...</td>\n",
       "      <td>1500</td>\n",
       "      <td>0</td>\n",
       "      <td>0.0</td>\n",
       "      <td>0</td>\n",
       "      <td>0.0</td>\n",
       "      <td>0</td>\n",
       "      <td>0</td>\n",
       "      <td>588.00</td>\n",
       "      <td>1</td>\n",
       "      <td>0</td>\n",
       "    </tr>\n",
       "    <tr>\n",
       "      <th>20</th>\n",
       "      <td>8a706bc525a3cb</td>\n",
       "      <td>22d1e4cd6d6a62</td>\n",
       "      <td>08f83a93dbd231</td>\n",
       "      <td>0</td>\n",
       "      <td>1</td>\n",
       "      <td>25.80</td>\n",
       "      <td>0</td>\n",
       "      <td>0</td>\n",
       "      <td>0</td>\n",
       "      <td>44</td>\n",
       "      <td>...</td>\n",
       "      <td>1547</td>\n",
       "      <td>0</td>\n",
       "      <td>7481.0</td>\n",
       "      <td>0</td>\n",
       "      <td>0.0</td>\n",
       "      <td>0</td>\n",
       "      <td>0</td>\n",
       "      <td>2168.00</td>\n",
       "      <td>1</td>\n",
       "      <td>0</td>\n",
       "    </tr>\n",
       "    <tr>\n",
       "      <th>40</th>\n",
       "      <td>51e0ba397b24d5</td>\n",
       "      <td>5cc05cfe8feb6d</td>\n",
       "      <td>d6c2929b422854</td>\n",
       "      <td>4</td>\n",
       "      <td>4</td>\n",
       "      <td>208.50</td>\n",
       "      <td>0</td>\n",
       "      <td>0</td>\n",
       "      <td>8</td>\n",
       "      <td>44</td>\n",
       "      <td>...</td>\n",
       "      <td>-1</td>\n",
       "      <td>0</td>\n",
       "      <td>268.9</td>\n",
       "      <td>0</td>\n",
       "      <td>0.0</td>\n",
       "      <td>0</td>\n",
       "      <td>0</td>\n",
       "      <td>3368.00</td>\n",
       "      <td>6</td>\n",
       "      <td>1477</td>\n",
       "    </tr>\n",
       "    <tr>\n",
       "      <th>60</th>\n",
       "      <td>800e92d02a2da3</td>\n",
       "      <td>d0a828bd6d26cf</td>\n",
       "      <td>c71033ff38ec90</td>\n",
       "      <td>0</td>\n",
       "      <td>0</td>\n",
       "      <td>25.74</td>\n",
       "      <td>0</td>\n",
       "      <td>0</td>\n",
       "      <td>0</td>\n",
       "      <td>55</td>\n",
       "      <td>...</td>\n",
       "      <td>1510</td>\n",
       "      <td>0</td>\n",
       "      <td>0.0</td>\n",
       "      <td>0</td>\n",
       "      <td>0.0</td>\n",
       "      <td>0</td>\n",
       "      <td>0</td>\n",
       "      <td>154.90</td>\n",
       "      <td>4</td>\n",
       "      <td>0</td>\n",
       "    </tr>\n",
       "    <tr>\n",
       "      <th>80</th>\n",
       "      <td>109659fc9d360b</td>\n",
       "      <td>4baf81131e479f</td>\n",
       "      <td>a9f0813690de2d</td>\n",
       "      <td>0</td>\n",
       "      <td>0</td>\n",
       "      <td>47.75</td>\n",
       "      <td>0</td>\n",
       "      <td>0</td>\n",
       "      <td>0</td>\n",
       "      <td>92</td>\n",
       "      <td>...</td>\n",
       "      <td>-1</td>\n",
       "      <td>0</td>\n",
       "      <td>0.0</td>\n",
       "      <td>0</td>\n",
       "      <td>0.0</td>\n",
       "      <td>0</td>\n",
       "      <td>0</td>\n",
       "      <td>84.52</td>\n",
       "      <td>2</td>\n",
       "      <td>1453</td>\n",
       "    </tr>\n",
       "  </tbody>\n",
       "</table>\n",
       "<p>5 rows × 28 columns</p>\n",
       "</div>"
      ],
      "text/plain": [
       "                Id         groupId         matchId  assists  boosts  \\\n",
       "0   9329eb41e215eb  676b23c24e70d6  45b576ab7daa7f        0       0   \n",
       "20  8a706bc525a3cb  22d1e4cd6d6a62  08f83a93dbd231        0       1   \n",
       "40  51e0ba397b24d5  5cc05cfe8feb6d  d6c2929b422854        4       4   \n",
       "60  800e92d02a2da3  d0a828bd6d26cf  c71033ff38ec90        0       0   \n",
       "80  109659fc9d360b  4baf81131e479f  a9f0813690de2d        0       0   \n",
       "\n",
       "    damageDealt  DBNOs  headshotKills  heals  killPlace    ...      \\\n",
       "0         51.46      0              0      0         73    ...       \n",
       "20        25.80      0              0      0         44    ...       \n",
       "40       208.50      0              0      8         44    ...       \n",
       "60        25.74      0              0      0         55    ...       \n",
       "80        47.75      0              0      0         92    ...       \n",
       "\n",
       "    rankPoints  revives  rideDistance  roadKills  swimDistance teamKills  \\\n",
       "0         1500        0           0.0          0           0.0         0   \n",
       "20        1547        0        7481.0          0           0.0         0   \n",
       "40          -1        0         268.9          0           0.0         0   \n",
       "60        1510        0           0.0          0           0.0         0   \n",
       "80          -1        0           0.0          0           0.0         0   \n",
       "\n",
       "    vehicleDestroys  walkDistance  weaponsAcquired  winPoints  \n",
       "0                 0        588.00                1          0  \n",
       "20                0       2168.00                1          0  \n",
       "40                0       3368.00                6       1477  \n",
       "60                0        154.90                4          0  \n",
       "80                0         84.52                2       1453  \n",
       "\n",
       "[5 rows x 28 columns]"
      ]
     },
     "execution_count": 17,
     "metadata": {},
     "output_type": "execute_result"
    }
   ],
   "source": [
    "data_true.head()"
   ]
  },
  {
   "cell_type": "markdown",
   "metadata": {},
   "source": [
    "##### 比赛类型"
   ]
  },
  {
   "cell_type": "code",
   "execution_count": 27,
   "metadata": {},
   "outputs": [
    {
     "data": {
      "text/html": [
       "<div>\n",
       "<style scoped>\n",
       "    .dataframe tbody tr th:only-of-type {\n",
       "        vertical-align: middle;\n",
       "    }\n",
       "\n",
       "    .dataframe tbody tr th {\n",
       "        vertical-align: top;\n",
       "    }\n",
       "\n",
       "    .dataframe thead th {\n",
       "        text-align: right;\n",
       "    }\n",
       "</style>\n",
       "<table border=\"1\" class=\"dataframe\">\n",
       "  <thead>\n",
       "    <tr style=\"text-align: right;\">\n",
       "      <th></th>\n",
       "      <th>Id</th>\n",
       "      <th>groupId</th>\n",
       "      <th>matchId</th>\n",
       "      <th>assists</th>\n",
       "      <th>boosts</th>\n",
       "      <th>damageDealt</th>\n",
       "      <th>DBNOs</th>\n",
       "      <th>headshotKills</th>\n",
       "      <th>heals</th>\n",
       "      <th>killPlace</th>\n",
       "      <th>...</th>\n",
       "      <th>rankPoints</th>\n",
       "      <th>revives</th>\n",
       "      <th>rideDistance</th>\n",
       "      <th>roadKills</th>\n",
       "      <th>swimDistance</th>\n",
       "      <th>teamKills</th>\n",
       "      <th>vehicleDestroys</th>\n",
       "      <th>walkDistance</th>\n",
       "      <th>weaponsAcquired</th>\n",
       "      <th>winPoints</th>\n",
       "    </tr>\n",
       "    <tr>\n",
       "      <th>matchType</th>\n",
       "      <th></th>\n",
       "      <th></th>\n",
       "      <th></th>\n",
       "      <th></th>\n",
       "      <th></th>\n",
       "      <th></th>\n",
       "      <th></th>\n",
       "      <th></th>\n",
       "      <th></th>\n",
       "      <th></th>\n",
       "      <th></th>\n",
       "      <th></th>\n",
       "      <th></th>\n",
       "      <th></th>\n",
       "      <th></th>\n",
       "      <th></th>\n",
       "      <th></th>\n",
       "      <th></th>\n",
       "      <th></th>\n",
       "      <th></th>\n",
       "      <th></th>\n",
       "    </tr>\n",
       "  </thead>\n",
       "  <tbody>\n",
       "    <tr>\n",
       "      <th>1</th>\n",
       "      <td>76415</td>\n",
       "      <td>76415</td>\n",
       "      <td>76415</td>\n",
       "      <td>76415</td>\n",
       "      <td>76415</td>\n",
       "      <td>76415</td>\n",
       "      <td>76415</td>\n",
       "      <td>76415</td>\n",
       "      <td>76415</td>\n",
       "      <td>76415</td>\n",
       "      <td>...</td>\n",
       "      <td>76415</td>\n",
       "      <td>76415</td>\n",
       "      <td>76415</td>\n",
       "      <td>76415</td>\n",
       "      <td>76415</td>\n",
       "      <td>76415</td>\n",
       "      <td>76415</td>\n",
       "      <td>76415</td>\n",
       "      <td>76415</td>\n",
       "      <td>76415</td>\n",
       "    </tr>\n",
       "    <tr>\n",
       "      <th>2</th>\n",
       "      <td>140317</td>\n",
       "      <td>140317</td>\n",
       "      <td>140317</td>\n",
       "      <td>140317</td>\n",
       "      <td>140317</td>\n",
       "      <td>140317</td>\n",
       "      <td>140317</td>\n",
       "      <td>140317</td>\n",
       "      <td>140317</td>\n",
       "      <td>140317</td>\n",
       "      <td>...</td>\n",
       "      <td>140317</td>\n",
       "      <td>140317</td>\n",
       "      <td>140317</td>\n",
       "      <td>140317</td>\n",
       "      <td>140317</td>\n",
       "      <td>140317</td>\n",
       "      <td>140317</td>\n",
       "      <td>140317</td>\n",
       "      <td>140317</td>\n",
       "      <td>140317</td>\n",
       "    </tr>\n",
       "    <tr>\n",
       "      <th>3</th>\n",
       "      <td>275222</td>\n",
       "      <td>275222</td>\n",
       "      <td>275222</td>\n",
       "      <td>275222</td>\n",
       "      <td>275222</td>\n",
       "      <td>275222</td>\n",
       "      <td>275222</td>\n",
       "      <td>275222</td>\n",
       "      <td>275222</td>\n",
       "      <td>275222</td>\n",
       "      <td>...</td>\n",
       "      <td>275222</td>\n",
       "      <td>275222</td>\n",
       "      <td>275222</td>\n",
       "      <td>275222</td>\n",
       "      <td>275222</td>\n",
       "      <td>275222</td>\n",
       "      <td>275222</td>\n",
       "      <td>275222</td>\n",
       "      <td>275222</td>\n",
       "      <td>275222</td>\n",
       "    </tr>\n",
       "    <tr>\n",
       "      <th>4</th>\n",
       "      <td>235252</td>\n",
       "      <td>235252</td>\n",
       "      <td>235252</td>\n",
       "      <td>235252</td>\n",
       "      <td>235252</td>\n",
       "      <td>235252</td>\n",
       "      <td>235252</td>\n",
       "      <td>235252</td>\n",
       "      <td>235252</td>\n",
       "      <td>235252</td>\n",
       "      <td>...</td>\n",
       "      <td>235252</td>\n",
       "      <td>235252</td>\n",
       "      <td>235252</td>\n",
       "      <td>235252</td>\n",
       "      <td>235252</td>\n",
       "      <td>235252</td>\n",
       "      <td>235252</td>\n",
       "      <td>235252</td>\n",
       "      <td>235252</td>\n",
       "      <td>235252</td>\n",
       "    </tr>\n",
       "    <tr>\n",
       "      <th>5</th>\n",
       "      <td>440660</td>\n",
       "      <td>440660</td>\n",
       "      <td>440660</td>\n",
       "      <td>440660</td>\n",
       "      <td>440660</td>\n",
       "      <td>440660</td>\n",
       "      <td>440660</td>\n",
       "      <td>440660</td>\n",
       "      <td>440660</td>\n",
       "      <td>440660</td>\n",
       "      <td>...</td>\n",
       "      <td>440660</td>\n",
       "      <td>440660</td>\n",
       "      <td>440660</td>\n",
       "      <td>440660</td>\n",
       "      <td>440660</td>\n",
       "      <td>440660</td>\n",
       "      <td>440660</td>\n",
       "      <td>440660</td>\n",
       "      <td>440660</td>\n",
       "      <td>440660</td>\n",
       "    </tr>\n",
       "    <tr>\n",
       "      <th>6</th>\n",
       "      <td>750204</td>\n",
       "      <td>750204</td>\n",
       "      <td>750204</td>\n",
       "      <td>750204</td>\n",
       "      <td>750204</td>\n",
       "      <td>750204</td>\n",
       "      <td>750204</td>\n",
       "      <td>750204</td>\n",
       "      <td>750204</td>\n",
       "      <td>750204</td>\n",
       "      <td>...</td>\n",
       "      <td>750204</td>\n",
       "      <td>750204</td>\n",
       "      <td>750204</td>\n",
       "      <td>750204</td>\n",
       "      <td>750204</td>\n",
       "      <td>750204</td>\n",
       "      <td>750204</td>\n",
       "      <td>750204</td>\n",
       "      <td>750204</td>\n",
       "      <td>750204</td>\n",
       "    </tr>\n",
       "  </tbody>\n",
       "</table>\n",
       "<p>6 rows × 27 columns</p>\n",
       "</div>"
      ],
      "text/plain": [
       "               Id  groupId  matchId  assists  boosts  damageDealt   DBNOs  \\\n",
       "matchType                                                                   \n",
       "1           76415    76415    76415    76415   76415        76415   76415   \n",
       "2          140317   140317   140317   140317  140317       140317  140317   \n",
       "3          275222   275222   275222   275222  275222       275222  275222   \n",
       "4          235252   235252   235252   235252  235252       235252  235252   \n",
       "5          440660   440660   440660   440660  440660       440660  440660   \n",
       "6          750204   750204   750204   750204  750204       750204  750204   \n",
       "\n",
       "           headshotKills   heals  killPlace    ...      rankPoints  revives  \\\n",
       "matchType                                      ...                            \n",
       "1                  76415   76415      76415    ...           76415    76415   \n",
       "2                 140317  140317     140317    ...          140317   140317   \n",
       "3                 275222  275222     275222    ...          275222   275222   \n",
       "4                 235252  235252     235252    ...          235252   235252   \n",
       "5                 440660  440660     440660    ...          440660   440660   \n",
       "6                 750204  750204     750204    ...          750204   750204   \n",
       "\n",
       "           rideDistance  roadKills  swimDistance  teamKills  vehicleDestroys  \\\n",
       "matchType                                                                      \n",
       "1                 76415      76415         76415      76415            76415   \n",
       "2                140317     140317        140317     140317           140317   \n",
       "3                275222     275222        275222     275222           275222   \n",
       "4                235252     235252        235252     235252           235252   \n",
       "5                440660     440660        440660     440660           440660   \n",
       "6                750204     750204        750204     750204           750204   \n",
       "\n",
       "           walkDistance  weaponsAcquired  winPoints  \n",
       "matchType                                            \n",
       "1                 76415            76415      76415  \n",
       "2                140317           140317     140317  \n",
       "3                275222           275222     275222  \n",
       "4                235252           235252     235252  \n",
       "5                440660           440660     440660  \n",
       "6                750204           750204     750204  \n",
       "\n",
       "[6 rows x 27 columns]"
      ]
     },
     "execution_count": 27,
     "metadata": {},
     "output_type": "execute_result"
    }
   ],
   "source": [
    "match_type = data_true.groupby('matchType').count()\n",
    "m = match_type.iloc[0:6,]\n",
    "m"
   ]
  },
  {
   "cell_type": "code",
   "execution_count": 19,
   "metadata": {},
   "outputs": [
    {
     "data": {
      "text/plain": [
       "(6, 27)"
      ]
     },
     "execution_count": 19,
     "metadata": {},
     "output_type": "execute_result"
    }
   ],
   "source": [
    "m.shape"
   ]
  },
  {
   "cell_type": "code",
   "execution_count": 28,
   "metadata": {},
   "outputs": [],
   "source": [
    "data_new = data_true[data_true[\"matchType\"].isin(m.index)]"
   ]
  },
  {
   "cell_type": "code",
   "execution_count": 29,
   "metadata": {},
   "outputs": [
    {
     "data": {
      "text/plain": [
       "0    6\n",
       "1    5\n",
       "2    6\n",
       "3    5\n",
       "4    6\n",
       "Name: matchType, dtype: object"
      ]
     },
     "execution_count": 29,
     "metadata": {},
     "output_type": "execute_result"
    }
   ],
   "source": [
    "data_new.head()\n",
    "data_new[\"matchType\"].head()\n",
    "# data_new.shape"
   ]
  },
  {
   "cell_type": "markdown",
   "metadata": {},
   "source": [
    "#### 删除id列"
   ]
  },
  {
   "cell_type": "code",
   "execution_count": 35,
   "metadata": {},
   "outputs": [],
   "source": [
    "data_new= data_new.drop(['Id','groupId','matchId'],axis=1)\n",
    "data_new.head()"
   ]
  },
  {
   "cell_type": "markdown",
   "metadata": {},
   "source": [
    "### 特征工程"
   ]
  },
  {
   "cell_type": "markdown",
   "metadata": {},
   "source": [
    "#### 特征提取--"
   ]
  },
  {
   "cell_type": "markdown",
   "metadata": {},
   "source": [
    "#### 特征预处理---标准化"
   ]
  },
  {
   "cell_type": "code",
   "execution_count": 36,
   "metadata": {},
   "outputs": [],
   "source": [
    "#  实例化一个转换器\n",
    "transfer = StandardScaler()\n",
    "#  调用fit_transform\n",
    "x = transfer.fit_transform(data_new)"
   ]
  },
  {
   "cell_type": "markdown",
   "metadata": {},
   "source": [
    "#### 特征降维"
   ]
  },
  {
   "cell_type": "code",
   "execution_count": 141,
   "metadata": {},
   "outputs": [],
   "source": [
    "# transfer = VarianceThreshold(threshold=1)\n",
    "# # 2、调用fit_transform\n",
    "# dataa = transfer.fit_transform(x_train.iloc[:,:])\n",
    "# print(\"删除低方差特征的结果：\\n\", dataa)\n",
    "# # print(\"形状：\\n\", data.shape)\n"
   ]
  },
  {
   "cell_type": "code",
   "execution_count": 203,
   "metadata": {},
   "outputs": [],
   "source": [
    "# transfer = PCA(n_components=0.9)\n",
    "# # 2、调用fit_transform\n",
    "# data1 = transfer.fit_transform(x_train)"
   ]
  },
  {
   "cell_type": "markdown",
   "metadata": {},
   "source": [
    "### 模型加载"
   ]
  },
  {
   "cell_type": "code",
   "execution_count": 37,
   "metadata": {},
   "outputs": [
    {
     "data": {
      "text/plain": [
       "Ridge(alpha=1.0, copy_X=True, fit_intercept=True, max_iter=None,\n",
       "   normalize=False, random_state=None, solver='auto', tol=0.001)"
      ]
     },
     "execution_count": 37,
     "metadata": {},
     "output_type": "execute_result"
    }
   ],
   "source": [
    "estimator = joblib.load(\"/Users/lujiawen/Desktop/第八组/绝地求生.pkl\")\n",
    "estimator"
   ]
  },
  {
   "cell_type": "markdown",
   "metadata": {},
   "source": [
    "### 评估"
   ]
  },
  {
   "cell_type": "code",
   "execution_count": 39,
   "metadata": {},
   "outputs": [
    {
     "name": "stdout",
     "output_type": "stream",
     "text": [
      "预测值为:\n",
      " [0.19619158 0.90825743 0.46449792 ... 0.8007859  0.73951227 0.02644521]\n",
      "模型中的系数为:\n",
      " [ 0.00797669  0.02459968  0.01190086 -0.00604572 -0.000881    0.00125277\n",
      " -0.20583267 -0.03013976 -0.02665849 -0.10409871  0.00107767 -0.04004264\n",
      "  0.00483766 -0.07679339  0.10214278  0.08545307  0.0063619   0.02593539\n",
      " -0.00040227  0.0031659  -0.00333369  0.0009972   0.13115392  0.02684958\n",
      "  0.11475043]\n",
      "模型中的偏置为:\n",
      " 0.47176095104282617\n"
     ]
    },
    {
     "ename": "NameError",
     "evalue": "name 'y_test' is not defined",
     "output_type": "error",
     "traceback": [
      "\u001b[0;31m---------------------------------------------------------------------------\u001b[0m",
      "\u001b[0;31mNameError\u001b[0m                                 Traceback (most recent call last)",
      "\u001b[0;32m<ipython-input-39-3eb54708ff99>\u001b[0m in \u001b[0;36m<module>\u001b[0;34m()\u001b[0m\n\u001b[1;32m     10\u001b[0m \u001b[0;31m# print(\"误差为:\\n\", error)\u001b[0m\u001b[0;34m\u001b[0m\u001b[0;34m\u001b[0m\u001b[0m\n\u001b[1;32m     11\u001b[0m \u001b[0;31m#mae 平均绝对误差\u001b[0m\u001b[0;34m\u001b[0m\u001b[0;34m\u001b[0m\u001b[0m\n\u001b[0;32m---> 12\u001b[0;31m \u001b[0merror\u001b[0m \u001b[0;34m=\u001b[0m \u001b[0mmean_absolute_error\u001b[0m\u001b[0;34m(\u001b[0m\u001b[0my_test\u001b[0m\u001b[0;34m,\u001b[0m \u001b[0my_predict\u001b[0m\u001b[0;34m)\u001b[0m\u001b[0;34m\u001b[0m\u001b[0m\n\u001b[0m\u001b[1;32m     13\u001b[0m \u001b[0mprint\u001b[0m\u001b[0;34m(\u001b[0m\u001b[0;34m\"误差为:\\n\"\u001b[0m\u001b[0;34m,\u001b[0m \u001b[0merror\u001b[0m\u001b[0;34m)\u001b[0m\u001b[0;34m\u001b[0m\u001b[0m\n",
      "\u001b[0;31mNameError\u001b[0m: name 'y_test' is not defined"
     ]
    }
   ],
   "source": [
    "from sklearn.metrics import mean_absolute_error\n",
    "y_predict = estimator.predict(x)\n",
    "print(\"预测值为:\\n\", y_predict)\n",
    "print(\"模型中的系数为:\\n\", estimator.coef_)\n",
    "print(\"模型中的偏置为:\\n\", estimator.intercept_)\n",
    "\n",
    "# 5.2 评价\n",
    "# 均方误差\n",
    "# error = mean_squared_error(y_test, y_predict)\n",
    "# print(\"误差为:\\n\", error)\n",
    "#mae 平均绝对误差\n",
    "# error = mean_absolute_error(y_test, y_predict)\n",
    "# print(\"误差为:\\n\", error)"
   ]
  },
  {
   "cell_type": "code",
   "execution_count": null,
   "metadata": {},
   "outputs": [],
   "source": []
  }
 ],
 "metadata": {
  "kernelspec": {
   "display_name": "Python 3",
   "language": "python",
   "name": "python3"
  },
  "language_info": {
   "codemirror_mode": {
    "name": "ipython",
    "version": 3
   },
   "file_extension": ".py",
   "mimetype": "text/x-python",
   "name": "python",
   "nbconvert_exporter": "python",
   "pygments_lexer": "ipython3",
   "version": "3.6.4"
  },
  "toc": {
   "base_numbering": 1,
   "nav_menu": {},
   "number_sections": true,
   "sideBar": true,
   "skip_h1_title": false,
   "title_cell": "Table of Contents",
   "title_sidebar": "Contents",
   "toc_cell": false,
   "toc_position": {},
   "toc_section_display": true,
   "toc_window_display": true
  }
 },
 "nbformat": 4,
 "nbformat_minor": 2
}
