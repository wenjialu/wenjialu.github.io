{
 "cells": [
  {
   "cell_type": "markdown",
   "metadata": {},
   "source": [
    "### 获取数据"
   ]
  },
  {
   "cell_type": "code",
   "execution_count": 208,
   "metadata": {},
   "outputs": [],
   "source": [
    "import pandas as pd\n",
    "import numpy as np\n",
    "import matplotlib.pyplot as plt\n",
    "from sklearn.model_selection import train_test_split\n",
    "from sklearn.feature_extraction.text import CountVectorizer\n",
    "from sklearn.preprocessing import StandardScaler\n",
    "from sklearn.linear_model import SGDRegressor\n",
    "from sklearn.linear_model import Ridge\n",
    "from sklearn.metrics import mean_squared_error\n",
    "from sklearn.decomposition import PCA\n",
    "from sklearn.feature_selection import VarianceThreshold\n",
    "from sklearn.externals import joblib"
   ]
  },
  {
   "cell_type": "code",
   "execution_count": 143,
   "metadata": {},
   "outputs": [
    {
     "data": {
      "text/html": [
       "<div>\n",
       "<style scoped>\n",
       "    .dataframe tbody tr th:only-of-type {\n",
       "        vertical-align: middle;\n",
       "    }\n",
       "\n",
       "    .dataframe tbody tr th {\n",
       "        vertical-align: top;\n",
       "    }\n",
       "\n",
       "    .dataframe thead th {\n",
       "        text-align: right;\n",
       "    }\n",
       "</style>\n",
       "<table border=\"1\" class=\"dataframe\">\n",
       "  <thead>\n",
       "    <tr style=\"text-align: right;\">\n",
       "      <th></th>\n",
       "      <th>Id</th>\n",
       "      <th>groupId</th>\n",
       "      <th>matchId</th>\n",
       "      <th>assists</th>\n",
       "      <th>boosts</th>\n",
       "      <th>damageDealt</th>\n",
       "      <th>DBNOs</th>\n",
       "      <th>headshotKills</th>\n",
       "      <th>heals</th>\n",
       "      <th>killPlace</th>\n",
       "      <th>...</th>\n",
       "      <th>revives</th>\n",
       "      <th>rideDistance</th>\n",
       "      <th>roadKills</th>\n",
       "      <th>swimDistance</th>\n",
       "      <th>teamKills</th>\n",
       "      <th>vehicleDestroys</th>\n",
       "      <th>walkDistance</th>\n",
       "      <th>weaponsAcquired</th>\n",
       "      <th>winPoints</th>\n",
       "      <th>winPlacePerc</th>\n",
       "    </tr>\n",
       "  </thead>\n",
       "  <tbody>\n",
       "    <tr>\n",
       "      <th>0</th>\n",
       "      <td>7f96b2f878858a</td>\n",
       "      <td>4d4b580de459be</td>\n",
       "      <td>a10357fd1a4a91</td>\n",
       "      <td>0</td>\n",
       "      <td>0</td>\n",
       "      <td>0.00</td>\n",
       "      <td>0</td>\n",
       "      <td>0</td>\n",
       "      <td>0</td>\n",
       "      <td>60</td>\n",
       "      <td>...</td>\n",
       "      <td>0</td>\n",
       "      <td>0.0000</td>\n",
       "      <td>0</td>\n",
       "      <td>0.00</td>\n",
       "      <td>0</td>\n",
       "      <td>0</td>\n",
       "      <td>244.80</td>\n",
       "      <td>1</td>\n",
       "      <td>1466</td>\n",
       "      <td>0.4444</td>\n",
       "    </tr>\n",
       "    <tr>\n",
       "      <th>1</th>\n",
       "      <td>eef90569b9d03c</td>\n",
       "      <td>684d5656442f9e</td>\n",
       "      <td>aeb375fc57110c</td>\n",
       "      <td>0</td>\n",
       "      <td>0</td>\n",
       "      <td>91.47</td>\n",
       "      <td>0</td>\n",
       "      <td>0</td>\n",
       "      <td>0</td>\n",
       "      <td>57</td>\n",
       "      <td>...</td>\n",
       "      <td>0</td>\n",
       "      <td>0.0045</td>\n",
       "      <td>0</td>\n",
       "      <td>11.04</td>\n",
       "      <td>0</td>\n",
       "      <td>0</td>\n",
       "      <td>1434.00</td>\n",
       "      <td>5</td>\n",
       "      <td>0</td>\n",
       "      <td>0.6400</td>\n",
       "    </tr>\n",
       "    <tr>\n",
       "      <th>2</th>\n",
       "      <td>1eaf90ac73de72</td>\n",
       "      <td>6a4a42c3245a74</td>\n",
       "      <td>110163d8bb94ae</td>\n",
       "      <td>1</td>\n",
       "      <td>0</td>\n",
       "      <td>68.00</td>\n",
       "      <td>0</td>\n",
       "      <td>0</td>\n",
       "      <td>0</td>\n",
       "      <td>47</td>\n",
       "      <td>...</td>\n",
       "      <td>0</td>\n",
       "      <td>0.0000</td>\n",
       "      <td>0</td>\n",
       "      <td>0.00</td>\n",
       "      <td>0</td>\n",
       "      <td>0</td>\n",
       "      <td>161.80</td>\n",
       "      <td>2</td>\n",
       "      <td>0</td>\n",
       "      <td>0.7755</td>\n",
       "    </tr>\n",
       "    <tr>\n",
       "      <th>3</th>\n",
       "      <td>4616d365dd2853</td>\n",
       "      <td>a930a9c79cd721</td>\n",
       "      <td>f1f1f4ef412d7e</td>\n",
       "      <td>0</td>\n",
       "      <td>0</td>\n",
       "      <td>32.90</td>\n",
       "      <td>0</td>\n",
       "      <td>0</td>\n",
       "      <td>0</td>\n",
       "      <td>75</td>\n",
       "      <td>...</td>\n",
       "      <td>0</td>\n",
       "      <td>0.0000</td>\n",
       "      <td>0</td>\n",
       "      <td>0.00</td>\n",
       "      <td>0</td>\n",
       "      <td>0</td>\n",
       "      <td>202.70</td>\n",
       "      <td>3</td>\n",
       "      <td>0</td>\n",
       "      <td>0.1667</td>\n",
       "    </tr>\n",
       "    <tr>\n",
       "      <th>4</th>\n",
       "      <td>315c96c26c9aac</td>\n",
       "      <td>de04010b3458dd</td>\n",
       "      <td>6dc8ff871e21e6</td>\n",
       "      <td>0</td>\n",
       "      <td>0</td>\n",
       "      <td>100.00</td>\n",
       "      <td>0</td>\n",
       "      <td>0</td>\n",
       "      <td>0</td>\n",
       "      <td>45</td>\n",
       "      <td>...</td>\n",
       "      <td>0</td>\n",
       "      <td>0.0000</td>\n",
       "      <td>0</td>\n",
       "      <td>0.00</td>\n",
       "      <td>0</td>\n",
       "      <td>0</td>\n",
       "      <td>49.75</td>\n",
       "      <td>2</td>\n",
       "      <td>0</td>\n",
       "      <td>0.1875</td>\n",
       "    </tr>\n",
       "  </tbody>\n",
       "</table>\n",
       "<p>5 rows × 29 columns</p>\n",
       "</div>"
      ],
      "text/plain": [
       "               Id         groupId         matchId  assists  boosts  \\\n",
       "0  7f96b2f878858a  4d4b580de459be  a10357fd1a4a91        0       0   \n",
       "1  eef90569b9d03c  684d5656442f9e  aeb375fc57110c        0       0   \n",
       "2  1eaf90ac73de72  6a4a42c3245a74  110163d8bb94ae        1       0   \n",
       "3  4616d365dd2853  a930a9c79cd721  f1f1f4ef412d7e        0       0   \n",
       "4  315c96c26c9aac  de04010b3458dd  6dc8ff871e21e6        0       0   \n",
       "\n",
       "   damageDealt  DBNOs  headshotKills  heals  killPlace      ...       revives  \\\n",
       "0         0.00      0              0      0         60      ...             0   \n",
       "1        91.47      0              0      0         57      ...             0   \n",
       "2        68.00      0              0      0         47      ...             0   \n",
       "3        32.90      0              0      0         75      ...             0   \n",
       "4       100.00      0              0      0         45      ...             0   \n",
       "\n",
       "   rideDistance  roadKills  swimDistance  teamKills vehicleDestroys  \\\n",
       "0        0.0000          0          0.00          0               0   \n",
       "1        0.0045          0         11.04          0               0   \n",
       "2        0.0000          0          0.00          0               0   \n",
       "3        0.0000          0          0.00          0               0   \n",
       "4        0.0000          0          0.00          0               0   \n",
       "\n",
       "   walkDistance  weaponsAcquired  winPoints  winPlacePerc  \n",
       "0        244.80                1       1466        0.4444  \n",
       "1       1434.00                5          0        0.6400  \n",
       "2        161.80                2          0        0.7755  \n",
       "3        202.70                3          0        0.1667  \n",
       "4         49.75                2          0        0.1875  \n",
       "\n",
       "[5 rows x 29 columns]"
      ]
     },
     "execution_count": 143,
     "metadata": {},
     "output_type": "execute_result"
    }
   ],
   "source": [
    "data = pd.read_csv('/Users/lujiawen/Desktop/PUBG_to_stu/data/train_V2.csv')\n",
    "data.head()"
   ]
  },
  {
   "cell_type": "code",
   "execution_count": 10,
   "metadata": {},
   "outputs": [
    {
     "data": {
      "text/plain": [
       "(4446966, 29)"
      ]
     },
     "execution_count": 10,
     "metadata": {},
     "output_type": "execute_result"
    }
   ],
   "source": [
    "data.shape"
   ]
  },
  {
   "cell_type": "markdown",
   "metadata": {},
   "source": [
    "### 数据处理"
   ]
  },
  {
   "cell_type": "markdown",
   "metadata": {},
   "source": [
    "#### 异常值"
   ]
  },
  {
   "cell_type": "markdown",
   "metadata": {},
   "source": [
    "##### 缺失值---判断有无缺失值"
   ]
  },
  {
   "cell_type": "code",
   "execution_count": 144,
   "metadata": {},
   "outputs": [
    {
     "data": {
      "text/plain": [
       "True"
      ]
     },
     "execution_count": 144,
     "metadata": {},
     "output_type": "execute_result"
    }
   ],
   "source": [
    "np.any(pd.isnull(data))"
   ]
  },
  {
   "cell_type": "code",
   "execution_count": 145,
   "metadata": {},
   "outputs": [
    {
     "data": {
      "text/plain": [
       "(4446965, 29)"
      ]
     },
     "execution_count": 145,
     "metadata": {},
     "output_type": "execute_result"
    }
   ],
   "source": [
    "data = data.dropna()\n",
    "data.shape"
   ]
  },
  {
   "cell_type": "markdown",
   "metadata": {},
   "source": [
    "#### 缩小数据范围"
   ]
  },
  {
   "cell_type": "markdown",
   "metadata": {},
   "source": [
    "##### 小组"
   ]
  },
  {
   "cell_type": "code",
   "execution_count": 149,
   "metadata": {},
   "outputs": [
    {
     "data": {
      "text/plain": [
       "(4395037, 29)"
      ]
     },
     "execution_count": 149,
     "metadata": {},
     "output_type": "execute_result"
    }
   ],
   "source": [
    "group_count = data.groupby('matchId').count()\n",
    "group_count = group_count[(group_count['Id']>70)] \n",
    "group_count\n",
    "data_true_ = data[data[\"matchId\"].isin(group_count.index)]\n",
    "data_true_\n",
    "data_true_.shape"
   ]
  },
  {
   "cell_type": "markdown",
   "metadata": {},
   "source": [
    "##### 切片"
   ]
  },
  {
   "cell_type": "code",
   "execution_count": 150,
   "metadata": {},
   "outputs": [
    {
     "data": {
      "text/plain": [
       "(219752, 29)"
      ]
     },
     "execution_count": 150,
     "metadata": {},
     "output_type": "execute_result"
    }
   ],
   "source": [
    "data_ = data_true_[::20]\n",
    "data_.shape"
   ]
  },
  {
   "cell_type": "code",
   "execution_count": 151,
   "metadata": {
    "scrolled": true
   },
   "outputs": [
    {
     "data": {
      "text/html": [
       "<div>\n",
       "<style scoped>\n",
       "    .dataframe tbody tr th:only-of-type {\n",
       "        vertical-align: middle;\n",
       "    }\n",
       "\n",
       "    .dataframe tbody tr th {\n",
       "        vertical-align: top;\n",
       "    }\n",
       "\n",
       "    .dataframe thead th {\n",
       "        text-align: right;\n",
       "    }\n",
       "</style>\n",
       "<table border=\"1\" class=\"dataframe\">\n",
       "  <thead>\n",
       "    <tr style=\"text-align: right;\">\n",
       "      <th></th>\n",
       "      <th>Id</th>\n",
       "      <th>groupId</th>\n",
       "      <th>matchId</th>\n",
       "      <th>assists</th>\n",
       "      <th>boosts</th>\n",
       "      <th>damageDealt</th>\n",
       "      <th>DBNOs</th>\n",
       "      <th>headshotKills</th>\n",
       "      <th>heals</th>\n",
       "      <th>killPlace</th>\n",
       "      <th>...</th>\n",
       "      <th>revives</th>\n",
       "      <th>rideDistance</th>\n",
       "      <th>roadKills</th>\n",
       "      <th>swimDistance</th>\n",
       "      <th>teamKills</th>\n",
       "      <th>vehicleDestroys</th>\n",
       "      <th>walkDistance</th>\n",
       "      <th>weaponsAcquired</th>\n",
       "      <th>winPoints</th>\n",
       "      <th>winPlacePerc</th>\n",
       "    </tr>\n",
       "  </thead>\n",
       "  <tbody>\n",
       "    <tr>\n",
       "      <th>0</th>\n",
       "      <td>7f96b2f878858a</td>\n",
       "      <td>4d4b580de459be</td>\n",
       "      <td>a10357fd1a4a91</td>\n",
       "      <td>0</td>\n",
       "      <td>0</td>\n",
       "      <td>0.0</td>\n",
       "      <td>0</td>\n",
       "      <td>0</td>\n",
       "      <td>0</td>\n",
       "      <td>60</td>\n",
       "      <td>...</td>\n",
       "      <td>0</td>\n",
       "      <td>0.0</td>\n",
       "      <td>0</td>\n",
       "      <td>0.0</td>\n",
       "      <td>0</td>\n",
       "      <td>0</td>\n",
       "      <td>244.8</td>\n",
       "      <td>1</td>\n",
       "      <td>1466</td>\n",
       "      <td>0.4444</td>\n",
       "    </tr>\n",
       "    <tr>\n",
       "      <th>20</th>\n",
       "      <td>02ace8c6e58461</td>\n",
       "      <td>a4bc548028f800</td>\n",
       "      <td>80f2b8448e474b</td>\n",
       "      <td>0</td>\n",
       "      <td>4</td>\n",
       "      <td>269.1</td>\n",
       "      <td>0</td>\n",
       "      <td>1</td>\n",
       "      <td>8</td>\n",
       "      <td>18</td>\n",
       "      <td>...</td>\n",
       "      <td>1</td>\n",
       "      <td>2734.0</td>\n",
       "      <td>0</td>\n",
       "      <td>0.0</td>\n",
       "      <td>0</td>\n",
       "      <td>0</td>\n",
       "      <td>1794.0</td>\n",
       "      <td>5</td>\n",
       "      <td>0</td>\n",
       "      <td>0.6383</td>\n",
       "    </tr>\n",
       "    <tr>\n",
       "      <th>40</th>\n",
       "      <td>ffd9e56f13438e</td>\n",
       "      <td>8df2112760f9e2</td>\n",
       "      <td>3f8b160eeee685</td>\n",
       "      <td>0</td>\n",
       "      <td>1</td>\n",
       "      <td>61.9</td>\n",
       "      <td>1</td>\n",
       "      <td>0</td>\n",
       "      <td>1</td>\n",
       "      <td>31</td>\n",
       "      <td>...</td>\n",
       "      <td>0</td>\n",
       "      <td>529.1</td>\n",
       "      <td>0</td>\n",
       "      <td>0.0</td>\n",
       "      <td>0</td>\n",
       "      <td>0</td>\n",
       "      <td>327.3</td>\n",
       "      <td>2</td>\n",
       "      <td>0</td>\n",
       "      <td>0.3200</td>\n",
       "    </tr>\n",
       "    <tr>\n",
       "      <th>60</th>\n",
       "      <td>5c46a37a783839</td>\n",
       "      <td>fcdc3ec45f9aea</td>\n",
       "      <td>2f985254dfe02b</td>\n",
       "      <td>0</td>\n",
       "      <td>1</td>\n",
       "      <td>170.0</td>\n",
       "      <td>1</td>\n",
       "      <td>1</td>\n",
       "      <td>4</td>\n",
       "      <td>16</td>\n",
       "      <td>...</td>\n",
       "      <td>0</td>\n",
       "      <td>0.0</td>\n",
       "      <td>0</td>\n",
       "      <td>0.0</td>\n",
       "      <td>0</td>\n",
       "      <td>0</td>\n",
       "      <td>3182.0</td>\n",
       "      <td>2</td>\n",
       "      <td>0</td>\n",
       "      <td>0.7200</td>\n",
       "    </tr>\n",
       "    <tr>\n",
       "      <th>80</th>\n",
       "      <td>9f3b1c12a9f2ec</td>\n",
       "      <td>fb1d7d36187631</td>\n",
       "      <td>066bda6450c15b</td>\n",
       "      <td>0</td>\n",
       "      <td>0</td>\n",
       "      <td>0.0</td>\n",
       "      <td>0</td>\n",
       "      <td>0</td>\n",
       "      <td>0</td>\n",
       "      <td>92</td>\n",
       "      <td>...</td>\n",
       "      <td>0</td>\n",
       "      <td>0.0</td>\n",
       "      <td>0</td>\n",
       "      <td>0.0</td>\n",
       "      <td>0</td>\n",
       "      <td>0</td>\n",
       "      <td>103.0</td>\n",
       "      <td>1</td>\n",
       "      <td>0</td>\n",
       "      <td>0.0714</td>\n",
       "    </tr>\n",
       "  </tbody>\n",
       "</table>\n",
       "<p>5 rows × 29 columns</p>\n",
       "</div>"
      ],
      "text/plain": [
       "                Id         groupId         matchId  assists  boosts  \\\n",
       "0   7f96b2f878858a  4d4b580de459be  a10357fd1a4a91        0       0   \n",
       "20  02ace8c6e58461  a4bc548028f800  80f2b8448e474b        0       4   \n",
       "40  ffd9e56f13438e  8df2112760f9e2  3f8b160eeee685        0       1   \n",
       "60  5c46a37a783839  fcdc3ec45f9aea  2f985254dfe02b        0       1   \n",
       "80  9f3b1c12a9f2ec  fb1d7d36187631  066bda6450c15b        0       0   \n",
       "\n",
       "    damageDealt  DBNOs  headshotKills  heals  killPlace      ...       \\\n",
       "0           0.0      0              0      0         60      ...        \n",
       "20        269.1      0              1      8         18      ...        \n",
       "40         61.9      1              0      1         31      ...        \n",
       "60        170.0      1              1      4         16      ...        \n",
       "80          0.0      0              0      0         92      ...        \n",
       "\n",
       "    revives  rideDistance  roadKills  swimDistance  teamKills vehicleDestroys  \\\n",
       "0         0           0.0          0           0.0          0               0   \n",
       "20        1        2734.0          0           0.0          0               0   \n",
       "40        0         529.1          0           0.0          0               0   \n",
       "60        0           0.0          0           0.0          0               0   \n",
       "80        0           0.0          0           0.0          0               0   \n",
       "\n",
       "    walkDistance  weaponsAcquired  winPoints  winPlacePerc  \n",
       "0          244.8                1       1466        0.4444  \n",
       "20        1794.0                5          0        0.6383  \n",
       "40         327.3                2          0        0.3200  \n",
       "60        3182.0                2          0        0.7200  \n",
       "80         103.0                1          0        0.0714  \n",
       "\n",
       "[5 rows x 29 columns]"
      ]
     },
     "execution_count": 151,
     "metadata": {},
     "output_type": "execute_result"
    }
   ],
   "source": [
    "data_.head()"
   ]
  },
  {
   "cell_type": "markdown",
   "metadata": {},
   "source": [
    "##### 可视化分析开挂数据并剔除"
   ]
  },
  {
   "cell_type": "code",
   "execution_count": 219,
   "metadata": {},
   "outputs": [
    {
     "data": {
      "text/plain": [
       "1834930    26\n",
       "4159774    26\n",
       "4268225    23\n",
       "2548742    20\n",
       "2963537    20\n",
       "Name: kills, dtype: int64"
      ]
     },
     "execution_count": 219,
     "metadata": {},
     "output_type": "execute_result"
    }
   ],
   "source": [
    "waigua = 'kills'\n",
    "waigua1 = 'longestKill'\n",
    "data_.sort_values(by= waigua,ascending=False)[waigua].head()"
   ]
  },
  {
   "cell_type": "code",
   "execution_count": 217,
   "metadata": {},
   "outputs": [
    {
     "data": {
      "image/png": "[encoded data removed]",
      "text/plain": [
       "<matplotlib.figure.Figure at 0x1a37746160>"
      ]
     },
     "metadata": {},
     "output_type": "display_data"
    }
   ],
   "source": [
    "plt.figure(figsize=(20, 8), dpi=80)\n",
    "x= data_.index\n",
    "y= data_[waigua]\n",
    "plt.plot(x,y)\n",
    "plt.grid(True, linestyle='--', alpha=0.5)\n",
    "plt.show()"
   ]
  },
  {
   "cell_type": "code",
   "execution_count": 154,
   "metadata": {},
   "outputs": [
    {
     "data": {
      "text/plain": [
       "(219745, 29)"
      ]
     },
     "execution_count": 154,
     "metadata": {},
     "output_type": "execute_result"
    }
   ],
   "source": [
    "# 去掉击杀数大于20的玩家\n",
    "data_true = data_[(data_[waigua]<20)] \n",
    "data_true\n",
    "data_true.shape"
   ]
  },
  {
   "cell_type": "markdown",
   "metadata": {},
   "source": [
    "##### 文本数据替换"
   ]
  },
  {
   "cell_type": "markdown",
   "metadata": {},
   "source": []
  },
  {
   "cell_type": "code",
   "execution_count": 155,
   "metadata": {},
   "outputs": [
    {
     "name": "stderr",
     "output_type": "stream",
     "text": [
      "/anaconda3/lib/python3.6/site-packages/pandas/core/indexing.py:537: SettingWithCopyWarning: \n",
      "A value is trying to be set on a copy of a slice from a DataFrame.\n",
      "Try using .loc[row_indexer,col_indexer] = value instead\n",
      "\n",
      "See the caveats in the documentation: http://pandas.pydata.org/pandas-docs/stable/indexing.html#indexing-view-versus-copy\n",
      "  self.obj[item] = s\n"
     ]
    }
   ],
   "source": [
    "data_true.loc[data_true['matchType']=='solo','matchType'] = 1\n",
    "data_true.loc[data_true['matchType']=='duo','matchType'] = 2\n",
    "data_true.loc[data_true['matchType']=='squad','matchType'] = 3\n",
    "data_true.loc[data_true['matchType']=='solo-fpp','matchType'] = 4\n",
    "data_true.loc[data_true['matchType']=='duo-fpp','matchType'] = 5\n",
    "data_true.loc[data_true['matchType']=='squad-fpp','matchType'] = 6"
   ]
  },
  {
   "cell_type": "code",
   "execution_count": 95,
   "metadata": {},
   "outputs": [
    {
     "data": {
      "text/html": [
       "<div>\n",
       "<style scoped>\n",
       "    .dataframe tbody tr th:only-of-type {\n",
       "        vertical-align: middle;\n",
       "    }\n",
       "\n",
       "    .dataframe tbody tr th {\n",
       "        vertical-align: top;\n",
       "    }\n",
       "\n",
       "    .dataframe thead th {\n",
       "        text-align: right;\n",
       "    }\n",
       "</style>\n",
       "<table border=\"1\" class=\"dataframe\">\n",
       "  <thead>\n",
       "    <tr style=\"text-align: right;\">\n",
       "      <th></th>\n",
       "      <th>Id</th>\n",
       "      <th>groupId</th>\n",
       "      <th>matchId</th>\n",
       "      <th>assists</th>\n",
       "      <th>boosts</th>\n",
       "      <th>damageDealt</th>\n",
       "      <th>DBNOs</th>\n",
       "      <th>headshotKills</th>\n",
       "      <th>heals</th>\n",
       "      <th>killPlace</th>\n",
       "      <th>...</th>\n",
       "      <th>revives</th>\n",
       "      <th>rideDistance</th>\n",
       "      <th>roadKills</th>\n",
       "      <th>swimDistance</th>\n",
       "      <th>teamKills</th>\n",
       "      <th>vehicleDestroys</th>\n",
       "      <th>walkDistance</th>\n",
       "      <th>weaponsAcquired</th>\n",
       "      <th>winPoints</th>\n",
       "      <th>winPlacePerc</th>\n",
       "    </tr>\n",
       "  </thead>\n",
       "  <tbody>\n",
       "    <tr>\n",
       "      <th>0</th>\n",
       "      <td>7f96b2f878858a</td>\n",
       "      <td>4d4b580de459be</td>\n",
       "      <td>a10357fd1a4a91</td>\n",
       "      <td>0</td>\n",
       "      <td>0</td>\n",
       "      <td>0.0</td>\n",
       "      <td>0</td>\n",
       "      <td>0</td>\n",
       "      <td>0</td>\n",
       "      <td>60</td>\n",
       "      <td>...</td>\n",
       "      <td>0</td>\n",
       "      <td>0.0</td>\n",
       "      <td>0</td>\n",
       "      <td>0.0</td>\n",
       "      <td>0</td>\n",
       "      <td>0</td>\n",
       "      <td>244.8</td>\n",
       "      <td>1</td>\n",
       "      <td>1466</td>\n",
       "      <td>0.4444</td>\n",
       "    </tr>\n",
       "    <tr>\n",
       "      <th>20</th>\n",
       "      <td>02ace8c6e58461</td>\n",
       "      <td>a4bc548028f800</td>\n",
       "      <td>80f2b8448e474b</td>\n",
       "      <td>0</td>\n",
       "      <td>4</td>\n",
       "      <td>269.1</td>\n",
       "      <td>0</td>\n",
       "      <td>1</td>\n",
       "      <td>8</td>\n",
       "      <td>18</td>\n",
       "      <td>...</td>\n",
       "      <td>1</td>\n",
       "      <td>2734.0</td>\n",
       "      <td>0</td>\n",
       "      <td>0.0</td>\n",
       "      <td>0</td>\n",
       "      <td>0</td>\n",
       "      <td>1794.0</td>\n",
       "      <td>5</td>\n",
       "      <td>0</td>\n",
       "      <td>0.6383</td>\n",
       "    </tr>\n",
       "    <tr>\n",
       "      <th>40</th>\n",
       "      <td>ffd9e56f13438e</td>\n",
       "      <td>8df2112760f9e2</td>\n",
       "      <td>3f8b160eeee685</td>\n",
       "      <td>0</td>\n",
       "      <td>1</td>\n",
       "      <td>61.9</td>\n",
       "      <td>1</td>\n",
       "      <td>0</td>\n",
       "      <td>1</td>\n",
       "      <td>31</td>\n",
       "      <td>...</td>\n",
       "      <td>0</td>\n",
       "      <td>529.1</td>\n",
       "      <td>0</td>\n",
       "      <td>0.0</td>\n",
       "      <td>0</td>\n",
       "      <td>0</td>\n",
       "      <td>327.3</td>\n",
       "      <td>2</td>\n",
       "      <td>0</td>\n",
       "      <td>0.3200</td>\n",
       "    </tr>\n",
       "    <tr>\n",
       "      <th>60</th>\n",
       "      <td>5c46a37a783839</td>\n",
       "      <td>fcdc3ec45f9aea</td>\n",
       "      <td>2f985254dfe02b</td>\n",
       "      <td>0</td>\n",
       "      <td>1</td>\n",
       "      <td>170.0</td>\n",
       "      <td>1</td>\n",
       "      <td>1</td>\n",
       "      <td>4</td>\n",
       "      <td>16</td>\n",
       "      <td>...</td>\n",
       "      <td>0</td>\n",
       "      <td>0.0</td>\n",
       "      <td>0</td>\n",
       "      <td>0.0</td>\n",
       "      <td>0</td>\n",
       "      <td>0</td>\n",
       "      <td>3182.0</td>\n",
       "      <td>2</td>\n",
       "      <td>0</td>\n",
       "      <td>0.7200</td>\n",
       "    </tr>\n",
       "    <tr>\n",
       "      <th>80</th>\n",
       "      <td>9f3b1c12a9f2ec</td>\n",
       "      <td>fb1d7d36187631</td>\n",
       "      <td>066bda6450c15b</td>\n",
       "      <td>0</td>\n",
       "      <td>0</td>\n",
       "      <td>0.0</td>\n",
       "      <td>0</td>\n",
       "      <td>0</td>\n",
       "      <td>0</td>\n",
       "      <td>92</td>\n",
       "      <td>...</td>\n",
       "      <td>0</td>\n",
       "      <td>0.0</td>\n",
       "      <td>0</td>\n",
       "      <td>0.0</td>\n",
       "      <td>0</td>\n",
       "      <td>0</td>\n",
       "      <td>103.0</td>\n",
       "      <td>1</td>\n",
       "      <td>0</td>\n",
       "      <td>0.0714</td>\n",
       "    </tr>\n",
       "  </tbody>\n",
       "</table>\n",
       "<p>5 rows × 29 columns</p>\n",
       "</div>"
      ],
      "text/plain": [
       "                Id         groupId         matchId  assists  boosts  \\\n",
       "0   7f96b2f878858a  4d4b580de459be  a10357fd1a4a91        0       0   \n",
       "20  02ace8c6e58461  a4bc548028f800  80f2b8448e474b        0       4   \n",
       "40  ffd9e56f13438e  8df2112760f9e2  3f8b160eeee685        0       1   \n",
       "60  5c46a37a783839  fcdc3ec45f9aea  2f985254dfe02b        0       1   \n",
       "80  9f3b1c12a9f2ec  fb1d7d36187631  066bda6450c15b        0       0   \n",
       "\n",
       "    damageDealt  DBNOs  headshotKills  heals  killPlace      ...       \\\n",
       "0           0.0      0              0      0         60      ...        \n",
       "20        269.1      0              1      8         18      ...        \n",
       "40         61.9      1              0      1         31      ...        \n",
       "60        170.0      1              1      4         16      ...        \n",
       "80          0.0      0              0      0         92      ...        \n",
       "\n",
       "    revives  rideDistance  roadKills  swimDistance  teamKills vehicleDestroys  \\\n",
       "0         0           0.0          0           0.0          0               0   \n",
       "20        1        2734.0          0           0.0          0               0   \n",
       "40        0         529.1          0           0.0          0               0   \n",
       "60        0           0.0          0           0.0          0               0   \n",
       "80        0           0.0          0           0.0          0               0   \n",
       "\n",
       "    walkDistance  weaponsAcquired  winPoints  winPlacePerc  \n",
       "0          244.8                1       1466        0.4444  \n",
       "20        1794.0                5          0        0.6383  \n",
       "40         327.3                2          0        0.3200  \n",
       "60        3182.0                2          0        0.7200  \n",
       "80         103.0                1          0        0.0714  \n",
       "\n",
       "[5 rows x 29 columns]"
      ]
     },
     "execution_count": 95,
     "metadata": {},
     "output_type": "execute_result"
    }
   ],
   "source": [
    "data_true.head()"
   ]
  },
  {
   "cell_type": "markdown",
   "metadata": {},
   "source": [
    "##### 比赛类型"
   ]
  },
  {
   "cell_type": "code",
   "execution_count": 156,
   "metadata": {},
   "outputs": [
    {
     "data": {
      "text/html": [
       "<div>\n",
       "<style scoped>\n",
       "    .dataframe tbody tr th:only-of-type {\n",
       "        vertical-align: middle;\n",
       "    }\n",
       "\n",
       "    .dataframe tbody tr th {\n",
       "        vertical-align: top;\n",
       "    }\n",
       "\n",
       "    .dataframe thead th {\n",
       "        text-align: right;\n",
       "    }\n",
       "</style>\n",
       "<table border=\"1\" class=\"dataframe\">\n",
       "  <thead>\n",
       "    <tr style=\"text-align: right;\">\n",
       "      <th></th>\n",
       "      <th>Id</th>\n",
       "      <th>groupId</th>\n",
       "      <th>matchId</th>\n",
       "      <th>assists</th>\n",
       "      <th>boosts</th>\n",
       "      <th>damageDealt</th>\n",
       "      <th>DBNOs</th>\n",
       "      <th>headshotKills</th>\n",
       "      <th>heals</th>\n",
       "      <th>killPlace</th>\n",
       "      <th>...</th>\n",
       "      <th>revives</th>\n",
       "      <th>rideDistance</th>\n",
       "      <th>roadKills</th>\n",
       "      <th>swimDistance</th>\n",
       "      <th>teamKills</th>\n",
       "      <th>vehicleDestroys</th>\n",
       "      <th>walkDistance</th>\n",
       "      <th>weaponsAcquired</th>\n",
       "      <th>winPoints</th>\n",
       "      <th>winPlacePerc</th>\n",
       "    </tr>\n",
       "    <tr>\n",
       "      <th>matchType</th>\n",
       "      <th></th>\n",
       "      <th></th>\n",
       "      <th></th>\n",
       "      <th></th>\n",
       "      <th></th>\n",
       "      <th></th>\n",
       "      <th></th>\n",
       "      <th></th>\n",
       "      <th></th>\n",
       "      <th></th>\n",
       "      <th></th>\n",
       "      <th></th>\n",
       "      <th></th>\n",
       "      <th></th>\n",
       "      <th></th>\n",
       "      <th></th>\n",
       "      <th></th>\n",
       "      <th></th>\n",
       "      <th></th>\n",
       "      <th></th>\n",
       "      <th></th>\n",
       "    </tr>\n",
       "  </thead>\n",
       "  <tbody>\n",
       "    <tr>\n",
       "      <th>1</th>\n",
       "      <td>8557</td>\n",
       "      <td>8557</td>\n",
       "      <td>8557</td>\n",
       "      <td>8557</td>\n",
       "      <td>8557</td>\n",
       "      <td>8557</td>\n",
       "      <td>8557</td>\n",
       "      <td>8557</td>\n",
       "      <td>8557</td>\n",
       "      <td>8557</td>\n",
       "      <td>...</td>\n",
       "      <td>8557</td>\n",
       "      <td>8557</td>\n",
       "      <td>8557</td>\n",
       "      <td>8557</td>\n",
       "      <td>8557</td>\n",
       "      <td>8557</td>\n",
       "      <td>8557</td>\n",
       "      <td>8557</td>\n",
       "      <td>8557</td>\n",
       "      <td>8557</td>\n",
       "    </tr>\n",
       "    <tr>\n",
       "      <th>2</th>\n",
       "      <td>15661</td>\n",
       "      <td>15661</td>\n",
       "      <td>15661</td>\n",
       "      <td>15661</td>\n",
       "      <td>15661</td>\n",
       "      <td>15661</td>\n",
       "      <td>15661</td>\n",
       "      <td>15661</td>\n",
       "      <td>15661</td>\n",
       "      <td>15661</td>\n",
       "      <td>...</td>\n",
       "      <td>15661</td>\n",
       "      <td>15661</td>\n",
       "      <td>15661</td>\n",
       "      <td>15661</td>\n",
       "      <td>15661</td>\n",
       "      <td>15661</td>\n",
       "      <td>15661</td>\n",
       "      <td>15661</td>\n",
       "      <td>15661</td>\n",
       "      <td>15661</td>\n",
       "    </tr>\n",
       "    <tr>\n",
       "      <th>3</th>\n",
       "      <td>31395</td>\n",
       "      <td>31395</td>\n",
       "      <td>31395</td>\n",
       "      <td>31395</td>\n",
       "      <td>31395</td>\n",
       "      <td>31395</td>\n",
       "      <td>31395</td>\n",
       "      <td>31395</td>\n",
       "      <td>31395</td>\n",
       "      <td>31395</td>\n",
       "      <td>...</td>\n",
       "      <td>31395</td>\n",
       "      <td>31395</td>\n",
       "      <td>31395</td>\n",
       "      <td>31395</td>\n",
       "      <td>31395</td>\n",
       "      <td>31395</td>\n",
       "      <td>31395</td>\n",
       "      <td>31395</td>\n",
       "      <td>31395</td>\n",
       "      <td>31395</td>\n",
       "    </tr>\n",
       "    <tr>\n",
       "      <th>4</th>\n",
       "      <td>26470</td>\n",
       "      <td>26470</td>\n",
       "      <td>26470</td>\n",
       "      <td>26470</td>\n",
       "      <td>26470</td>\n",
       "      <td>26470</td>\n",
       "      <td>26470</td>\n",
       "      <td>26470</td>\n",
       "      <td>26470</td>\n",
       "      <td>26470</td>\n",
       "      <td>...</td>\n",
       "      <td>26470</td>\n",
       "      <td>26470</td>\n",
       "      <td>26470</td>\n",
       "      <td>26470</td>\n",
       "      <td>26470</td>\n",
       "      <td>26470</td>\n",
       "      <td>26470</td>\n",
       "      <td>26470</td>\n",
       "      <td>26470</td>\n",
       "      <td>26470</td>\n",
       "    </tr>\n",
       "    <tr>\n",
       "      <th>5</th>\n",
       "      <td>49451</td>\n",
       "      <td>49451</td>\n",
       "      <td>49451</td>\n",
       "      <td>49451</td>\n",
       "      <td>49451</td>\n",
       "      <td>49451</td>\n",
       "      <td>49451</td>\n",
       "      <td>49451</td>\n",
       "      <td>49451</td>\n",
       "      <td>49451</td>\n",
       "      <td>...</td>\n",
       "      <td>49451</td>\n",
       "      <td>49451</td>\n",
       "      <td>49451</td>\n",
       "      <td>49451</td>\n",
       "      <td>49451</td>\n",
       "      <td>49451</td>\n",
       "      <td>49451</td>\n",
       "      <td>49451</td>\n",
       "      <td>49451</td>\n",
       "      <td>49451</td>\n",
       "    </tr>\n",
       "    <tr>\n",
       "      <th>6</th>\n",
       "      <td>87678</td>\n",
       "      <td>87678</td>\n",
       "      <td>87678</td>\n",
       "      <td>87678</td>\n",
       "      <td>87678</td>\n",
       "      <td>87678</td>\n",
       "      <td>87678</td>\n",
       "      <td>87678</td>\n",
       "      <td>87678</td>\n",
       "      <td>87678</td>\n",
       "      <td>...</td>\n",
       "      <td>87678</td>\n",
       "      <td>87678</td>\n",
       "      <td>87678</td>\n",
       "      <td>87678</td>\n",
       "      <td>87678</td>\n",
       "      <td>87678</td>\n",
       "      <td>87678</td>\n",
       "      <td>87678</td>\n",
       "      <td>87678</td>\n",
       "      <td>87678</td>\n",
       "    </tr>\n",
       "  </tbody>\n",
       "</table>\n",
       "<p>6 rows × 28 columns</p>\n",
       "</div>"
      ],
      "text/plain": [
       "              Id  groupId  matchId  assists  boosts  damageDealt  DBNOs  \\\n",
       "matchType                                                                 \n",
       "1           8557     8557     8557     8557    8557         8557   8557   \n",
       "2          15661    15661    15661    15661   15661        15661  15661   \n",
       "3          31395    31395    31395    31395   31395        31395  31395   \n",
       "4          26470    26470    26470    26470   26470        26470  26470   \n",
       "5          49451    49451    49451    49451   49451        49451  49451   \n",
       "6          87678    87678    87678    87678   87678        87678  87678   \n",
       "\n",
       "           headshotKills  heals  killPlace      ...       revives  \\\n",
       "matchType                                       ...                 \n",
       "1                   8557   8557       8557      ...          8557   \n",
       "2                  15661  15661      15661      ...         15661   \n",
       "3                  31395  31395      31395      ...         31395   \n",
       "4                  26470  26470      26470      ...         26470   \n",
       "5                  49451  49451      49451      ...         49451   \n",
       "6                  87678  87678      87678      ...         87678   \n",
       "\n",
       "           rideDistance  roadKills  swimDistance  teamKills  vehicleDestroys  \\\n",
       "matchType                                                                      \n",
       "1                  8557       8557          8557       8557             8557   \n",
       "2                 15661      15661         15661      15661            15661   \n",
       "3                 31395      31395         31395      31395            31395   \n",
       "4                 26470      26470         26470      26470            26470   \n",
       "5                 49451      49451         49451      49451            49451   \n",
       "6                 87678      87678         87678      87678            87678   \n",
       "\n",
       "           walkDistance  weaponsAcquired  winPoints  winPlacePerc  \n",
       "matchType                                                          \n",
       "1                  8557             8557       8557          8557  \n",
       "2                 15661            15661      15661         15661  \n",
       "3                 31395            31395      31395         31395  \n",
       "4                 26470            26470      26470         26470  \n",
       "5                 49451            49451      49451         49451  \n",
       "6                 87678            87678      87678         87678  \n",
       "\n",
       "[6 rows x 28 columns]"
      ]
     },
     "execution_count": 156,
     "metadata": {},
     "output_type": "execute_result"
    }
   ],
   "source": [
    "match_type = data_true.groupby('matchType').count()\n",
    "m = match_type.iloc[0:6,]\n",
    "m"
   ]
  },
  {
   "cell_type": "code",
   "execution_count": 104,
   "metadata": {},
   "outputs": [
    {
     "data": {
      "text/plain": [
       "(6, 28)"
      ]
     },
     "execution_count": 104,
     "metadata": {},
     "output_type": "execute_result"
    }
   ],
   "source": [
    "m.shape"
   ]
  },
  {
   "cell_type": "code",
   "execution_count": 190,
   "metadata": {},
   "outputs": [],
   "source": [
    "data_new = data_true[data_true[\"matchType\"].isin(m.index)]"
   ]
  },
  {
   "cell_type": "code",
   "execution_count": 193,
   "metadata": {},
   "outputs": [
    {
     "data": {
      "text/plain": [
       "0     6\n",
       "20    5\n",
       "40    3\n",
       "60    6\n",
       "80    6\n",
       "Name: matchType, dtype: object"
      ]
     },
     "execution_count": 193,
     "metadata": {},
     "output_type": "execute_result"
    }
   ],
   "source": [
    "data_new.head()\n",
    "data_new[\"matchType\"].head()\n",
    "# data_new.shape"
   ]
  },
  {
   "cell_type": "markdown",
   "metadata": {},
   "source": [
    "### 分割数据"
   ]
  },
  {
   "cell_type": "code",
   "execution_count": 194,
   "metadata": {},
   "outputs": [],
   "source": [
    "features= data_new.drop(['Id','groupId','matchId','winPlacePerc'],axis=1)\n",
    "# features"
   ]
  },
  {
   "cell_type": "code",
   "execution_count": 180,
   "metadata": {},
   "outputs": [],
   "source": [
    "# features=('assists,boosts,damageDealt,DBNOs,headshotKills,heals,killPlace,killPoints,kills,killStreaks,longestKill,matchDuration,matchType,maxPlace,numGroups,rankPoints,revives,rideDistance,roadKills,swimDistance,teamKills,vehicleDestroys,walkDistance,weaponsAcquired,winPoints').split(',')\n",
    "# features"
   ]
  },
  {
   "cell_type": "code",
   "execution_count": 195,
   "metadata": {},
   "outputs": [
    {
     "data": {
      "text/plain": [
       "(164409, 25)"
      ]
     },
     "execution_count": 195,
     "metadata": {},
     "output_type": "execute_result"
    }
   ],
   "source": [
    "# 确定特征值和目标值\n",
    "x = features #特征\n",
    "y = data_new[\"winPlacePerc\"] #目标\n",
    "# 分割数据集\n",
    "x_train, x_test, y_train, y_test = train_test_split(x, y)  #random_state=22\n",
    "x_train.shape \n",
    "# x_test.shape "
   ]
  },
  {
   "cell_type": "markdown",
   "metadata": {},
   "source": [
    "### 特征工程"
   ]
  },
  {
   "cell_type": "markdown",
   "metadata": {},
   "source": [
    "#### 特征提取--"
   ]
  },
  {
   "cell_type": "markdown",
   "metadata": {},
   "source": [
    "#### 特征预处理---标准化"
   ]
  },
  {
   "cell_type": "code",
   "execution_count": 196,
   "metadata": {},
   "outputs": [],
   "source": [
    "#  实例化一个转换器\n",
    "transfer = StandardScaler()\n",
    "#  调用fit_transform\n",
    "x_train = transfer.fit_transform(x_train)\n",
    "x_test = transfer.transform(x_test)"
   ]
  },
  {
   "cell_type": "markdown",
   "metadata": {},
   "source": [
    "#### 特征降维"
   ]
  },
  {
   "cell_type": "code",
   "execution_count": 141,
   "metadata": {},
   "outputs": [],
   "source": [
    "# # 低方差特征过滤\n",
    "# transfer = VarianceThreshold(threshold=1)\n",
    "# # 2、调用fit_transform\n",
    "# dataa = transfer.fit_transform(x_train.iloc[:,:])\n",
    "# print(\"删除低方差特征的结果：\\n\", dataa)\n",
    "# # print(\"形状：\\n\", data.shape)\n"
   ]
  },
  {
   "cell_type": "code",
   "execution_count": 203,
   "metadata": {},
   "outputs": [],
   "source": [
    "# transfer = PCA(n_components=0.9)\n",
    "# # 2、调用fit_transform\n",
    "# data1 = transfer.fit_transform(x_train)"
   ]
  },
  {
   "cell_type": "markdown",
   "metadata": {},
   "source": [
    "### 训练"
   ]
  },
  {
   "cell_type": "code",
   "execution_count": 211,
   "metadata": {},
   "outputs": [
    {
     "data": {
      "text/plain": [
       "Ridge(alpha=1.0, copy_X=True, fit_intercept=True, max_iter=None,\n",
       "   normalize=False, random_state=None, solver='auto', tol=0.001)"
      ]
     },
     "execution_count": 211,
     "metadata": {},
     "output_type": "execute_result"
    }
   ],
   "source": [
    "estimator = Ridge(alpha=1.0)\n",
    "estimator.fit(x_train, y_train)"
   ]
  },
  {
   "cell_type": "markdown",
   "metadata": {},
   "source": [
    "### 模型保存"
   ]
  },
  {
   "cell_type": "code",
   "execution_count": 213,
   "metadata": {},
   "outputs": [
    {
     "data": {
      "text/plain": [
       "['/Users/lujiawen/Desktop/第八组/绝地求生.pkl']"
      ]
     },
     "execution_count": 213,
     "metadata": {},
     "output_type": "execute_result"
    }
   ],
   "source": [
    "joblib.dump(estimator, \"/Users/lujiawen/Desktop/第八组/绝地求生.pkl\")"
   ]
  },
  {
   "cell_type": "markdown",
   "metadata": {},
   "source": [
    "### 评估"
   ]
  },
  {
   "cell_type": "code",
   "execution_count": 214,
   "metadata": {},
   "outputs": [
    {
     "name": "stdout",
     "output_type": "stream",
     "text": [
      "预测值为:\n",
      " [0.6862667  0.8620523  0.46392671 ... 0.6069171  0.08694297 0.7861993 ]\n",
      "模型中的系数为:\n",
      " [ 0.00797669  0.02459968  0.01190086 -0.00604572 -0.000881    0.00125277\n",
      " -0.20583267 -0.03013976 -0.02665849 -0.10409871  0.00107767 -0.04004264\n",
      "  0.00483766 -0.07679339  0.10214278  0.08545307  0.0063619   0.02593539\n",
      " -0.00040227  0.0031659  -0.00333369  0.0009972   0.13115392  0.02684958\n",
      "  0.11475043]\n",
      "模型中的偏置为:\n",
      " 0.47176095104282617\n",
      "误差为:\n",
      " 0.014730701000193669\n"
     ]
    }
   ],
   "source": [
    "y_predict = estimator.predict(x_test)\n",
    "print(\"预测值为:\\n\", y_predict)\n",
    "print(\"模型中的系数为:\\n\", estimator.coef_)\n",
    "print(\"模型中的偏置为:\\n\", estimator.intercept_)\n",
    "\n",
    "# 5.2 评价\n",
    "# 均方误差\n",
    "error = mean_squared_error(y_test, y_predict)\n",
    "print(\"误差为:\\n\", error)"
   ]
  },
  {
   "cell_type": "code",
   "execution_count": null,
   "metadata": {},
   "outputs": [],
   "source": []
  }
 ],
 "metadata": {
  "kernelspec": {
   "display_name": "Python 3",
   "language": "python",
   "name": "python3"
  },
  "language_info": {
   "codemirror_mode": {
    "name": "ipython",
    "version": 3
   },
   "file_extension": ".py",
   "mimetype": "text/x-python",
   "name": "python",
   "nbconvert_exporter": "python",
   "pygments_lexer": "ipython3",
   "version": "3.6.4"
  },
  "toc": {
   "base_numbering": 1,
   "nav_menu": {},
   "number_sections": true,
   "sideBar": true,
   "skip_h1_title": false,
   "title_cell": "Table of Contents",
   "title_sidebar": "Contents",
   "toc_cell": false,
   "toc_position": {},
   "toc_section_display": true,
   "toc_window_display": true
  }
 },
 "nbformat": 4,
 "nbformat_minor": 2
}
